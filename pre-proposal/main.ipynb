{
 "cells": [
  {
   "cell_type": "code",
   "execution_count": 1,
   "id": "554a66a3-930c-425f-bb87-f0791bb41b22",
   "metadata": {
    "slideshow": {
     "slide_type": "skip"
    },
    "tags": []
   },
   "outputs": [],
   "source": [
    "import iplantuml"
   ]
  },
  {
   "cell_type": "markdown",
   "id": "f8c957ae-683b-4ef5-9518-ea40bc3b89d5",
   "metadata": {
    "slideshow": {
     "slide_type": "slide"
    },
    "tags": []
   },
   "source": [
    "# Preliminary Proposal\n",
    "## Mariah A. Knowles"
   ]
  },
  {
   "cell_type": "code",
   "execution_count": 2,
   "id": "5df853cb-ddd7-4bf7-abbc-a507912f9d15",
   "metadata": {
    "slideshow": {
     "slide_type": "slide"
    },
    "tags": [
     "hide-code"
    ]
   },
   "outputs": [
    {
     "name": "stdout",
     "output_type": "stream",
     "text": [
      "Writing output for /home/jovyan/pre-proposal/example.uml to example.svg\n"
     ]
    },
    {
     "data": {
      "image/svg+xml": [
       "<svg contentStyleType=\"text/css\" height=\"149px\" preserveAspectRatio=\"none\" style=\"width:241px;height:149px;background:#FFFFFF;\" version=\"1.1\" viewBox=\"0 0 241 149\" width=\"241px\" xmlns=\"http://www.w3.org/2000/svg\" xmlns:xlink=\"http://www.w3.org/1999/xlink\" zoomAndPan=\"magnify\"><defs/><g><line style=\"stroke:#181818;stroke-width:0.5;stroke-dasharray:5.0,5.0;\" x1=\"29\" x2=\"29\" y1=\"36.2969\" y2=\"114.5625\"/><line style=\"stroke:#181818;stroke-width:0.5;stroke-dasharray:5.0,5.0;\" x1=\"213\" x2=\"213\" y1=\"36.2969\" y2=\"114.5625\"/><rect fill=\"#E2E2F0\" height=\"30.2969\" rx=\"2.5\" ry=\"2.5\" style=\"stroke:#181818;stroke-width:0.5;\" width=\"49\" x=\"5\" y=\"5\"/><text fill=\"#000000\" font-family=\"sans-serif\" font-size=\"14\" lengthAdjust=\"spacing\" textLength=\"35\" x=\"12\" y=\"24.9951\">Alice</text><rect fill=\"#E2E2F0\" height=\"30.2969\" rx=\"2.5\" ry=\"2.5\" style=\"stroke:#181818;stroke-width:0.5;\" width=\"49\" x=\"5\" y=\"113.5625\"/><text fill=\"#000000\" font-family=\"sans-serif\" font-size=\"14\" lengthAdjust=\"spacing\" textLength=\"35\" x=\"12\" y=\"133.5576\">Alice</text><rect fill=\"#E2E2F0\" height=\"30.2969\" rx=\"2.5\" ry=\"2.5\" style=\"stroke:#181818;stroke-width:0.5;\" width=\"43\" x=\"192\" y=\"5\"/><text fill=\"#000000\" font-family=\"sans-serif\" font-size=\"14\" lengthAdjust=\"spacing\" textLength=\"29\" x=\"199\" y=\"24.9951\">Bob</text><rect fill=\"#E2E2F0\" height=\"30.2969\" rx=\"2.5\" ry=\"2.5\" style=\"stroke:#181818;stroke-width:0.5;\" width=\"43\" x=\"192\" y=\"113.5625\"/><text fill=\"#000000\" font-family=\"sans-serif\" font-size=\"14\" lengthAdjust=\"spacing\" textLength=\"29\" x=\"199\" y=\"133.5576\">Bob</text><polygon fill=\"#181818\" points=\"201.5,63.4297,211.5,67.4297,201.5,71.4297,205.5,67.4297\" style=\"stroke:#181818;stroke-width:1.0;\"/><line style=\"stroke:#181818;stroke-width:1.0;\" x1=\"29.5\" x2=\"207.5\" y1=\"67.4297\" y2=\"67.4297\"/><text fill=\"#000000\" font-family=\"sans-serif\" font-size=\"13\" lengthAdjust=\"spacing\" textLength=\"150\" x=\"36.5\" y=\"62.3638\">Authentication Request</text><polygon fill=\"#181818\" points=\"40.5,92.5625,30.5,96.5625,40.5,100.5625,36.5,96.5625\" style=\"stroke:#181818;stroke-width:1.0;\"/><line style=\"stroke:#181818;stroke-width:1.0;stroke-dasharray:2.0,2.0;\" x1=\"34.5\" x2=\"212.5\" y1=\"96.5625\" y2=\"96.5625\"/><text fill=\"#000000\" font-family=\"sans-serif\" font-size=\"13\" lengthAdjust=\"spacing\" textLength=\"160\" x=\"46.5\" y=\"91.4966\">Authentication Response</text><!--MD5=[f3181c52eed0a03f7d6df32cfcb40b54]\n",
       "@startuml\n",
       "Alice -> Bob: Authentication Request\n",
       "Bob - -> Alice: Authentication Response\n",
       "@enduml\n",
       "\n",
       "PlantUML version 1.2022.4beta2(Unknown compile time)\n",
       "(GPL source distribution)\n",
       "Java Runtime: Java(TM) SE Runtime Environment\n",
       "JVM: Java HotSpot(TM) 64-Bit Server VM\n",
       "Default Encoding: UTF-8\n",
       "Language: en\n",
       "Country: US\n",
       "--></g></svg>"
      ],
      "text/plain": [
       "<IPython.core.display.SVG object>"
      ]
     },
     "execution_count": 2,
     "metadata": {},
     "output_type": "execute_result"
    }
   ],
   "source": [
    "%%plantuml -n example\n",
    "\n",
    "@startuml\n",
    "Alice -> Bob: Authentication Request\n",
    "Bob --> Alice: Authentication Response\n",
    "@enduml"
   ]
  },
  {
   "cell_type": "markdown",
   "id": "46c261db-f609-4b00-97ee-35a71d7b1da1",
   "metadata": {
    "slideshow": {
     "slide_type": "slide"
    },
    "tags": []
   },
   "source": [
    "# Intro"
   ]
  },
  {
   "cell_type": "markdown",
   "id": "8e6911dd-1282-4186-8030-83ffef08e214",
   "metadata": {
    "slideshow": {
     "slide_type": "fragment"
    },
    "tags": []
   },
   "source": [
    "## Motivating Questions\n",
    "\n",
    "TODO"
   ]
  },
  {
   "cell_type": "markdown",
   "id": "87190eba-f47e-48e3-b0a9-6c77433d2a8e",
   "metadata": {
    "slideshow": {
     "slide_type": "fragment"
    },
    "tags": []
   },
   "source": [
    "## RQs\n",
    "\n",
    "1. What are the ethics-related and AI-related (a) aims, (b) practices, and (c) constraints of those involved in the teaching of AI Ethics?\n",
    "2. What moral theoretical commitments are held in AI Ethics Education?\n",
    "3. Under what conditions do RQ1 and RQ2 change?"
   ]
  },
  {
   "cell_type": "markdown",
   "id": "142b6a80-3f98-47ae-9961-23f48bfd5d3e",
   "metadata": {
    "slideshow": {
     "slide_type": "fragment"
    },
    "tags": []
   },
   "source": [
    "## Why Me?\n",
    "\n",
    "TODO"
   ]
  },
  {
   "cell_type": "markdown",
   "id": "b8baf952-3657-4757-8dab-45364832ba09",
   "metadata": {
    "slideshow": {
     "slide_type": "slide"
    },
    "tags": []
   },
   "source": [
    "# Literature\n",
    "\n",
    "TODO\n",
    "\n",
    "**Coursework:** LIS 931, LIS 663"
   ]
  },
  {
   "cell_type": "markdown",
   "id": "039753fc-9a78-4856-b917-81a8cff1b056",
   "metadata": {
    "slideshow": {
     "slide_type": "slide"
    },
    "tags": []
   },
   "source": [
    "# Theory\n",
    "\n",
    "TODO\n",
    "\n",
    "**Coursework:** LIS 931, LIS 663, ELPA 765, EPS 870"
   ]
  },
  {
   "cell_type": "markdown",
   "id": "4b3aa0ae-470b-4e13-a5c7-9a4bb133b3d9",
   "metadata": {
    "slideshow": {
     "slide_type": "slide"
    },
    "tags": []
   },
   "source": [
    "# Methods\n",
    "\n",
    "- Judgment-based -> Snowball -> Theoretic Sampling\n",
    "- Interviews\n",
    "- Pilot Focus Group\n",
    "- Focus Groups\n",
    "- Debrief Interviews\n",
    "- Reflections - Deliberate inclusion of myself in the data\n",
    "- Constant Comparative\n",
    "\n",
    "**Coursework:** ELPA 825, EPS 771, EPS 955, Practicum, PAship"
   ]
  },
  {
   "cell_type": "markdown",
   "id": "41773668-0785-461c-a166-1688107bcf24",
   "metadata": {
    "slideshow": {
     "slide_type": "slide"
    },
    "tags": []
   },
   "source": [
    "# Anticipated Issues\n",
    "\n",
    "TODO"
   ]
  },
  {
   "cell_type": "markdown",
   "id": "e527164e-4483-40de-ba5a-209dc2c320e3",
   "metadata": {
    "slideshow": {
     "slide_type": "slide"
    },
    "tags": []
   },
   "source": [
    "# Contribution\n",
    "\n",
    "TODO"
   ]
  },
  {
   "cell_type": "markdown",
   "id": "98253c74-f0e2-47ee-88cc-c5669789b7b9",
   "metadata": {
    "slideshow": {
     "slide_type": "slide"
    },
    "tags": []
   },
   "source": [
    "<p style=\"float: right;\"><img src=\"coco.jpeg\" alt=\"\" style=\"height:400px\"></p>\n",
    "\n",
    "# ty"
   ]
  }
 ],
 "metadata": {
  "kernelspec": {
   "display_name": "Python 3 (ipykernel)",
   "language": "python",
   "name": "python3"
  },
  "language_info": {
   "codemirror_mode": {
    "name": "ipython",
    "version": 3
   },
   "file_extension": ".py",
   "mimetype": "text/x-python",
   "name": "python",
   "nbconvert_exporter": "python",
   "pygments_lexer": "ipython3",
   "version": "3.7.12"
  }
 },
 "nbformat": 4,
 "nbformat_minor": 5
}
