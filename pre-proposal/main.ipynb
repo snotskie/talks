{
 "cells": [
  {
   "cell_type": "code",
   "execution_count": 1,
   "id": "554a66a3-930c-425f-bb87-f0791bb41b22",
   "metadata": {
    "jupyter": {
     "source_hidden": true
    },
    "slideshow": {
     "slide_type": "skip"
    },
    "tags": []
   },
   "outputs": [],
   "source": [
    "import iplantuml\n",
    "\n",
    "%%plantuml -n example\n",
    "\n",
    "@startuml\n",
    "\n",
    "skinparam packageStyle rectangle\n",
    "\n",
    "package Outcomes {\n",
    "    (I want to create a map)\n",
    "    (of the moral theoretical commitments in AI Ethics Ed)\n",
    "    (organized by under what conditions [empirical or theoretical] each is appropriate.)\n",
    "}\n",
    "\n",
    "(I want to create a map) -- (of the moral theoretical commitments in AI Ethics Ed)\n",
    "(of the moral theoretical commitments in AI Ethics Ed) -- (organized by under what conditions [empirical or theoretical] each is appropriate.)\n",
    "\n",
    "package Contributions {\n",
    "    (This satisfies a number of needs.)\n",
    "    (Teachers entering this space are often non-experts and resource constrained.)\n",
    "    (Teachers in this space often teach how they were taught.)\n",
    "    (Teachers in this space are putting in a lot of thinking! There's whole conferences!)\n",
    "    (Teachers are doing this kind of teaching in a wide range of disciplines)\n",
    "    (because many are caught up in the race to shape normative and practical guidance around AI.)\n",
    "}\n",
    "     \n",
    "Outcomes -- (This satisfies a number of needs.)\n",
    "(This satisfies a number of needs.) -- (Teachers entering this space are often non-experts and resource constrained.)\n",
    "(This satisfies a number of needs.) -- (Teachers in this space often teach how they were taught.)\n",
    "(This satisfies a number of needs.) -- (Teachers in this space are putting in a lot of thinking! There's whole conferences!)\n",
    "(This satisfies a number of needs.) -- (Teachers are doing this kind of teaching in a wide range of disciplines)\n",
    "(Teachers are doing this kind of teaching in a wide range of disciplines) -- (because many are caught up in the race to shape normative and practical guidance around AI.)\n",
    "\n",
    "@enduml"
   ]
  },
  {
   "cell_type": "markdown",
   "id": "f8c957ae-683b-4ef5-9518-ea40bc3b89d5",
   "metadata": {
    "slideshow": {
     "slide_type": "slide"
    },
    "tags": []
   },
   "source": [
    "# Preliminary Proposal\n",
    "## Mariah A. Knowles"
   ]
  },
  {
   "cell_type": "markdown",
   "id": "00421c06-7d6e-4cdb-8867-b8b80fbef259",
   "metadata": {
    "slideshow": {
     "slide_type": "slide"
    },
    "tags": []
   },
   "source": [
    "# Purpose of the Dissertation\n",
    "\n",
    "1. AI issues abound.\n",
    "2. We ought to address these issues on a number of fronts.\n",
    "3. Ethics Education is one such front.\n",
    "4. I want to create a map\n",
    "    - of the moral theoretical commitments in AI Ethics Education\n",
    "    - organized around under what conditions (empirical and theoretical) each is appropriate\n",
    "    - in a way that is context sensitive to real teachers doing this kind of teaching today\n",
    "    - and illucidated by rich accounts of the experiences of real teachers doing this kind of teaching today"
   ]
  },
  {
   "cell_type": "markdown",
   "id": "690b597a-0dbb-4b2b-889b-d8453d14f9fe",
   "metadata": {
    "slideshow": {
     "slide_type": "subslide"
    },
    "tags": []
   },
   "source": [
    "This addresses a number of needs:\n",
    "\n",
    "- Teachers entering this space are often non-experts and resource constrained.\n",
    "    - A map provides them a way to organize their thinking.\n",
    "    - Rich descriptions show them the experiences of those who have already gone through these sort of things.\n",
    "- Teachers in this space often teach how they were taught. Computing lacks a rich history of ethics embedded into it. So, standing *only* on how one was taught in this space leaves them with thin guidance for ethics teaching.\n",
    "    - A map shows them other perspectives that they might be missing.\n",
    "    - Rich descriptions show them how others have mapped their teaching to their goals."
   ]
  },
  {
   "cell_type": "markdown",
   "id": "887fd5aa-28a5-43b1-a8ee-9b99fe2fa4e3",
   "metadata": {
    "slideshow": {
     "slide_type": "subslide"
    },
    "tags": []
   },
   "source": [
    "- Teachers in this space genuinely are trying to get it right! They have lots of thoughts! There's new conferences, trainings, NSF grants, etc. around AI Ethics every day!\n",
    "    - A map helps prevent us from talking past one another.\n",
    "    - Rich descriptions show us the thickness of different ways of conceptualizing the same things.\n",
    "- Teachers are doing this kind of teaching in a *wide* range of disciplines, because many are swept up in the race to shape the normative requirements and practical advice for how we create, train, deploy, use, consume, regulate, interpret, mitigate the harms of, and be subjects of AI.\n",
    "    - A map helps show opportunities for these disciplines to learn from one another.\n",
    "    - Rich descriptions give examples of how these interdisciplinary endeavors have been attempted in the past."
   ]
  },
  {
   "cell_type": "markdown",
   "id": "46c261db-f609-4b00-97ee-35a71d7b1da1",
   "metadata": {
    "slideshow": {
     "slide_type": "slide"
    },
    "tags": []
   },
   "source": [
    "# Research and Researcher\n",
    "\n",
    "## Motivating Question\n",
    "\n",
    "How ought the aims of AI Ethics Education be construed and organized?"
   ]
  },
  {
   "cell_type": "markdown",
   "id": "962bcd1a-95d4-4de4-8be2-ebf105b99538",
   "metadata": {
    "slideshow": {
     "slide_type": "subslide"
    },
    "tags": []
   },
   "source": [
    "## RQs\n",
    "\n",
    "1. What are the ethics-related and AI-related (a) aims, (b) practices, and (c) constraints of those involved in the teaching of AI Ethics?\n",
    "2. What moral theoretical commitments are held in AI Ethics Education?\n",
    "3. Under what conditions do RQ1 and RQ2 change?"
   ]
  },
  {
   "cell_type": "markdown",
   "id": "4af28fc2-521c-4259-a9ec-eec1b501c832",
   "metadata": {
    "slideshow": {
     "slide_type": "subslide"
    },
    "tags": []
   },
   "source": [
    "## Evaluative Criteria\n",
    "\n",
    "1. Dependability: Was the research systematic?\n",
    "2. Authenticity: Has the researcher been reflexive and appreciative of multiple perspectives?\n",
    "3. Context Sensitivity: Are norms for effecting practice grounded?"
   ]
  },
  {
   "cell_type": "markdown",
   "id": "a7c65015-e129-4632-9be5-8e1bc3345760",
   "metadata": {
    "slideshow": {
     "slide_type": "subslide"
    },
    "tags": []
   },
   "source": [
    "## Why Me?\n",
    "\n",
    "1. AI Ethics is necessarily interdisciplinary.\n",
    "2. This sort of research requires familiarity with a range of disciplines: technical, humanities, education, ...\n",
    "3. I am a swiss army knife."
   ]
  },
  {
   "cell_type": "markdown",
   "id": "b8baf952-3657-4757-8dab-45364832ba09",
   "metadata": {
    "slideshow": {
     "slide_type": "slide"
    },
    "tags": []
   },
   "source": [
    "# Theory, Literature, & Traditions\n",
    "## Drawing On\n",
    "\n",
    "- AI Ethics Calls and Initiatives: What are the problems this kind of teaching is being called upon to serve?\n",
    "- Practical Ethics Education: What is the broader tradition of the course objectives of this kind of teaching?\n",
    "- Moral Aims of Higher Education: What are the bigger picture aims of such objectives, what are the origins / moral bases of those aims, what rights and values are caught up in those objectives, etc.?\n",
    "- AI Ethics Instruction: How do we do this kind of teaching, and how do we know it works?"
   ]
  },
  {
   "cell_type": "markdown",
   "id": "11c07011-c1da-4914-bded-008c2a7bcb6d",
   "metadata": {
    "slideshow": {
     "slide_type": "subslide"
    },
    "tags": []
   },
   "source": [
    "## Coursework\n",
    "\n",
    "- LIS 461, 931, & 999: Data ethics, policy, independent study with Alan\n",
    "- LIS 663: Cyberlaw with Anuj\n",
    "- JOURN 803, EPS 870, & ELPA 765: Ed/social theories and policies in my minor and electives"
   ]
  },
  {
   "cell_type": "markdown",
   "id": "4b3aa0ae-470b-4e13-a5c7-9a4bb133b3d9",
   "metadata": {
    "slideshow": {
     "slide_type": "slide"
    },
    "tags": []
   },
   "source": [
    "# Methods\n",
    "\n",
    "## Pilot Recap\n",
    "\n",
    "- Judgment-based sampling\n",
    "- Computer Science vs. Information\n",
    "- 10 participants, 5 from each department\n",
    "- Semi-structured interviews, 20~30 minutes each\n",
    "- Zoom, audio recorded\n",
    "- Constant Comparative Thematic Analysis\n",
    "- Found common themes\n",
    "- Found variance in aims, which mapped onto teaching strategies\n",
    "    - Later conceptualized this as \"moral theoretical commitments\"\n",
    "    - The dissertation is aimed at understanding this tentative finding deeper"
   ]
  },
  {
   "cell_type": "markdown",
   "id": "f387c5de-bbe0-4810-b702-ed9995e95255",
   "metadata": {
    "slideshow": {
     "slide_type": "subslide"
    },
    "tags": []
   },
   "source": [
    "## Proposal\n",
    "\n",
    "- Extend Pilot Sampling\n",
    "    - Snowball\n",
    "    - More disciplines (those identified by Fiesler)\n",
    "- Interviews\n",
    "    - Build rapport\n",
    "    - Develop theoretic sensitivity\n",
    "- Focus Groups\n",
    "    - Pilot, with help from YJ Kim\n",
    "    - Share tentative findings\n",
    "    - Assess needs\n",
    "    - Gather feedback on presentation of the findings\n",
    "    - Crystalize interview themes\n",
    "- Debrief Interviews\n",
    "- Reflections\n",
    "    - Deliberate inclusion of myself in the data"
   ]
  },
  {
   "cell_type": "markdown",
   "id": "26526edf-ccc0-4517-bc93-b26a6d319ab9",
   "metadata": {
    "slideshow": {
     "slide_type": "subslide"
    },
    "tags": []
   },
   "source": [
    "## Coursework\n",
    "\n",
    "- SOC 361 & 361: Stats\n",
    "- LIS 910, ELPA 825 & 719: Research Methods, General\n",
    "- EPS 711 & 955: Research Methods, Special, QE and Grounded Theory\n",
    "- Research Practicum with David Shaffer\n",
    "- PAship with YJ Kim"
   ]
  },
  {
   "cell_type": "markdown",
   "id": "41773668-0785-461c-a166-1688107bcf24",
   "metadata": {
    "slideshow": {
     "slide_type": "slide"
    },
    "tags": []
   },
   "source": [
    "# Anticipated Issues\n",
    "\n",
    "- Teachers have busy schedules\n",
    "    - Pandemic experience with Zoom helps\n",
    "- Currently lack direct experience running focus groups\n",
    "    - PAship focused on analysis of transcripts of focus groups with teachers around conceptions of algorithm-generated metrics\n",
    "    - Pilot with a convenience sample, which will be chosen to maximize qualities shared with my target population"
   ]
  },
  {
   "cell_type": "markdown",
   "id": "36e206a5-a841-4951-9cbf-af18df7108ff",
   "metadata": {
    "slideshow": {
     "slide_type": "subslide"
    },
    "tags": []
   },
   "source": [
    "- I focus on teachers perceptions, not direct observations\n",
    "    - This is a trade off against costs (travel), risks (COVID), and IRB concerns (FERPA), in favor of casting a wider net across multiple disciplines\n",
    "    - Observations can be done in a later study\n",
    "- Projects this interdisciplinary are rarely done by one researcher\n",
    "    - I select methods that invite analytical thinking from the participants early and often\n",
    "    - I have a number of support networks in different fields I can lean on"
   ]
  },
  {
   "cell_type": "markdown",
   "id": "2e5a0bff-0e89-4dc3-9cdc-523fb08766a9",
   "metadata": {
    "slideshow": {
     "slide_type": "subslide"
    },
    "tags": []
   },
   "source": [
    "- My positionality (among other things) affects the data I will collect\n",
    "    - I include deliberate self-reflection in the study\n",
    "    - I will be explicit about my positionality and status as a member-researcher"
   ]
  },
  {
   "cell_type": "markdown",
   "id": "e527164e-4483-40de-ba5a-209dc2c320e3",
   "metadata": {
    "slideshow": {
     "slide_type": "slide"
    },
    "tags": []
   },
   "source": [
    "# Contribution\n",
    "## Existing Work\n",
    "\n",
    "- reviews of syllabi\n",
    "- designs and evaluation of course activities\n",
    "- reflections on one's own teaching\n",
    "- position papers\n",
    "- literature reviews "
   ]
  },
  {
   "cell_type": "markdown",
   "id": "9583aae5-07f9-4f95-a794-79e0c1595840",
   "metadata": {
    "slideshow": {
     "slide_type": "subslide"
    },
    "tags": []
   },
   "source": [
    "## Holes in the Literature\n",
    "\n",
    "- normative thinking on the bigger picture aims of AI Ethics Education\n",
    "- grounded in the perspectives of real teachers doing this kind of teaching today\n",
    "- across the disciplines"
   ]
  },
  {
   "cell_type": "markdown",
   "id": "ada0e20c-b6db-4de6-80bd-0570e2a8083e",
   "metadata": {
    "slideshow": {
     "slide_type": "subslide"
    },
    "tags": []
   },
   "source": [
    "## Purpose of the Dissertation\n",
    "\n",
    "- I want to create a map\n",
    "    - of the moral theoretical commitments in AI Ethics Education\n",
    "    - organized around under what conditions (empirical and theoretical) each is appropriate\n",
    "    - in a way that is context sensitive to real teachers doing this kind of teaching today\n",
    "    - and illucidated by rich accounts of the experiences of real teachers doing this kind of teaching today"
   ]
  },
  {
   "cell_type": "markdown",
   "id": "98253c74-f0e2-47ee-88cc-c5669789b7b9",
   "metadata": {
    "slideshow": {
     "slide_type": "slide"
    },
    "tags": []
   },
   "source": [
    "<p style=\"float: right;\"><img src=\"coco.jpeg\" alt=\"\" style=\"height:400px\"></p>\n",
    "\n",
    "# ty"
   ]
  }
 ],
 "metadata": {
  "kernelspec": {
   "display_name": "Python 3 (ipykernel)",
   "language": "python",
   "name": "python3"
  },
  "language_info": {
   "codemirror_mode": {
    "name": "ipython",
    "version": 3
   },
   "file_extension": ".py",
   "mimetype": "text/x-python",
   "name": "python",
   "nbconvert_exporter": "python",
   "pygments_lexer": "ipython3",
   "version": "3.7.12"
  }
 },
 "nbformat": 4,
 "nbformat_minor": 5
}
