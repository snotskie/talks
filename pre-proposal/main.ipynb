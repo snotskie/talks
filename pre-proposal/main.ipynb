{
 "cells": [
  {
   "cell_type": "code",
   "execution_count": 1,
   "id": "554a66a3-930c-425f-bb87-f0791bb41b22",
   "metadata": {
    "slideshow": {
     "slide_type": "skip"
    },
    "tags": []
   },
   "outputs": [],
   "source": [
    "import iplantuml"
   ]
  },
  {
   "cell_type": "markdown",
   "id": "f8c957ae-683b-4ef5-9518-ea40bc3b89d5",
   "metadata": {
    "slideshow": {
     "slide_type": "slide"
    },
    "tags": []
   },
   "source": [
    "# Preliminary Proposal\n",
    "## Mariah A. Knowles"
   ]
  },
  {
   "cell_type": "markdown",
   "id": "00421c06-7d6e-4cdb-8867-b8b80fbef259",
   "metadata": {
    "slideshow": {
     "slide_type": "slide"
    },
    "tags": []
   },
   "source": [
    "# Purpose of the Dissertation\n",
    "\n",
    "1. AI issues abound.\n",
    "2. We ought to address these issues on a number of fronts.\n",
    "3. Ethics Education is one such front.\n",
    "4. I want to create a map\n",
    "    - of the moral theoretical commitments in AI Ethics Education\n",
    "    - organized around under what conditions (empirical and theoretical) each is appropriate\n",
    "    - in a way that is context sensitive to real teachers doing this kind of teaching today\n",
    "    - and illucidated by rich accounts of the experiences of real teachers doing this kind of teaching today"
   ]
  },
  {
   "cell_type": "markdown",
   "id": "690b597a-0dbb-4b2b-889b-d8453d14f9fe",
   "metadata": {
    "slideshow": {
     "slide_type": "subslide"
    },
    "tags": []
   },
   "source": [
    "This addresses a number of needs:\n",
    "\n",
    "- Teachers entering this space are often non-experts and resource constrained.\n",
    "    - A map provides them a way to organize their thinking.\n",
    "    - Rich descriptions show them the experiences of those who have already gone through these sort of things.\n",
    "- Teachers in this space often teach how they were taught. Computing, compared to other fields, is a field without a rich history of ethics embedded into it. So it is thin guidance to stand on only how one was previously taught in this space.\n",
    "    - A map shows them other perspectives that they might be missing.\n",
    "    - Rich descriptions show them how others have mapped their teaching to their goals."
   ]
  },
  {
   "cell_type": "markdown",
   "id": "887fd5aa-28a5-43b1-a8ee-9b99fe2fa4e3",
   "metadata": {
    "slideshow": {
     "slide_type": "subslide"
    },
    "tags": []
   },
   "source": [
    "- Teachers in this space genuinely are trying to get it right! They have lots of thoughts! There's new conferences etc. around AI Ethics every day!\n",
    "    - A map helps prevent us from talking past one another.\n",
    "    - Rich descriptions show us the thickness of different ways of conceptualizing the same things.\n",
    "- Teachers are doing this kind of teaching in a *wide* range of disciplines, because many are swept up in the race to shape the normative requirements and practical advice for how we create, train, deploy, use, consume, regulate, interpret, mitigate the harms of, and be subjects of AI.\n",
    "    - A map helps show opportunities for these disciplines to learn from one another.\n",
    "    - Rich descriptions give examples of how these interdisciplinary endeavors have been attempted in the past."
   ]
  },
  {
   "cell_type": "code",
   "execution_count": 16,
   "id": "5df853cb-ddd7-4bf7-abbc-a507912f9d15",
   "metadata": {
    "collapsed": true,
    "jupyter": {
     "outputs_hidden": true,
     "source_hidden": true
    },
    "slideshow": {
     "slide_type": "skip"
    },
    "tags": [
     "hide-code"
    ]
   },
   "outputs": [
    {
     "name": "stdout",
     "output_type": "stream",
     "text": [
      "Writing output for /home/jovyan/pre-proposal/example.uml to example.svg\n"
     ]
    },
    {
     "data": {
      "image/svg+xml": [
       "<svg contentStyleType=\"text/css\" height=\"654px\" preserveAspectRatio=\"none\" style=\"width:3008px;height:654px;background:#FFFFFF;\" version=\"1.1\" viewBox=\"0 0 3008 654\" width=\"3008px\" xmlns=\"http://www.w3.org/2000/svg\" xmlns:xlink=\"http://www.w3.org/1999/xlink\" zoomAndPan=\"magnify\"><defs/><g><!--MD5=[169c59fa9bddd81defb1d17e1baaf596]\n",
       "cluster Outcomes--><g id=\"cluster_Outcomes\"><rect height=\"445\" rx=\"2.5\" ry=\"2.5\" style=\"stroke:#181818;stroke-width:1.0;fill:none;\" width=\"668\" x=\"7\" y=\"7\"/><text fill=\"#000000\" font-family=\"sans-serif\" font-size=\"14\" font-weight=\"bold\" lengthAdjust=\"spacing\" textLength=\"82\" x=\"300\" y=\"21.9951\">Outcomes</text></g><!--MD5=[91adb066ffd7079d02e742439c2a4583]\n",
       "cluster Contributions--><g id=\"cluster_Contributions\"><rect height=\"514.5\" rx=\"2.5\" ry=\"2.5\" style=\"stroke:#181818;stroke-width:1.0;fill:none;\" width=\"2295\" x=\"707\" y=\"133.5\"/><text fill=\"#000000\" font-family=\"sans-serif\" font-size=\"14\" font-weight=\"bold\" lengthAdjust=\"spacing\" textLength=\"112\" x=\"1798.5\" y=\"148.4951\">Contributions</text></g><g id=\"elem_I want to create a map\"><ellipse cx=\"337.0673\" cy=\"72.2135\" fill=\"#F1F1F1\" rx=\"99.0673\" ry=\"22.2135\" style=\"stroke:#181818;stroke-width:0.5;\"/><text fill=\"#000000\" font-family=\"sans-serif\" font-size=\"14\" lengthAdjust=\"spacing\" textLength=\"162\" x=\"256.0673\" y=\"75.0601\">I want to create a map</text></g><g id=\"elem_of the moral theoretical commitments in AI Ethics Ed\"><ellipse cx=\"337.1483\" cy=\"197.4297\" fill=\"#F1F1F1\" rx=\"205.1483\" ry=\"43.4297\" style=\"stroke:#181818;stroke-width:0.5;\"/><text fill=\"#000000\" font-family=\"sans-serif\" font-size=\"14\" lengthAdjust=\"spacing\" textLength=\"384\" x=\"145.1483\" y=\"200.2763\">of the moral theoretical commitments in AI Ethics Ed</text></g><g id=\"elem_organized by under what conditions [empirical or theoretical] each is appropriate.\"><ellipse cx=\"337.2494\" cy=\"364.6499\" fill=\"#F1F1F1\" rx=\"306.2494\" ry=\"63.6499\" style=\"stroke:#181818;stroke-width:0.5;\"/><text fill=\"#000000\" font-family=\"sans-serif\" font-size=\"14\" lengthAdjust=\"spacing\" textLength=\"589\" x=\"42.7494\" y=\"367.4966\">organized by under what conditions [empirical or theoretical] each is appropriate.</text></g><g id=\"elem_This satisfies a number of needs.\"><ellipse cx=\"1564.0468\" cy=\"197.5094\" fill=\"#F1F1F1\" rx=\"133.0468\" ry=\"29.0094\" style=\"stroke:#181818;stroke-width:0.5;\"/><text fill=\"#000000\" font-family=\"sans-serif\" font-size=\"14\" lengthAdjust=\"spacing\" textLength=\"235\" x=\"1446.5468\" y=\"200.356\">This satisfies a number of needs.</text></g><g id=\"elem_Teachers entering this space are often non-experts and resource constrained.\"><ellipse cx=\"1015.8774\" cy=\"364.4755\" fill=\"#F1F1F1\" rx=\"292.8774\" ry=\"60.9755\" style=\"stroke:#181818;stroke-width:0.5;\"/><text fill=\"#000000\" font-family=\"sans-serif\" font-size=\"14\" lengthAdjust=\"spacing\" textLength=\"562\" x=\"734.8774\" y=\"367.3222\">Teachers entering this space are often non-experts and resource constrained.</text></g><g id=\"elem_Teachers in this space often teach how they were taught.\"><ellipse cx=\"1563.8615\" cy=\"364.3723\" fill=\"#F1F1F1\" rx=\"219.8615\" ry=\"46.3723\" style=\"stroke:#181818;stroke-width:0.5;\"/><text fill=\"#000000\" font-family=\"sans-serif\" font-size=\"14\" lengthAdjust=\"spacing\" textLength=\"414\" x=\"1356.8615\" y=\"367.219\">Teachers in this space often teach how they were taught.</text></g><g id=\"elem_Teachers in this space are putting in a lot of thinking! There's whole conferences!\"><ellipse cx=\"2123.763\" cy=\"364.3526\" fill=\"#F1F1F1\" rx=\"304.763\" ry=\"63.3526\" style=\"stroke:#181818;stroke-width:0.5;\"/><text fill=\"#000000\" font-family=\"sans-serif\" font-size=\"14\" lengthAdjust=\"spacing\" textLength=\"586\" x=\"1830.763\" y=\"367.1993\">Teachers in this space are putting in a lot of thinking! There's whole conferences!</text></g><g id=\"elem_Teachers are doing this kind of teaching in a wide range of disciplines\"><ellipse cx=\"2725.2405\" cy=\"364.5481\" fill=\"#F1F1F1\" rx=\"260.7405\" ry=\"54.5481\" style=\"stroke:#181818;stroke-width:0.5;\"/><text fill=\"#000000\" font-family=\"sans-serif\" font-size=\"14\" lengthAdjust=\"spacing\" textLength=\"497\" x=\"2476.7405\" y=\"367.3948\">Teachers are doing this kind of teaching in a wide range of disciplines</text></g><g id=\"elem_because many are caught up in the race to shape normative and practical guidance around AI.\"><ellipse cx=\"2638.9218\" cy=\"559.7844\" fill=\"#F1F1F1\" rx=\"346.9218\" ry=\"71.7844\" style=\"stroke:#181818;stroke-width:0.5;\"/><text fill=\"#000000\" font-family=\"sans-serif\" font-size=\"14\" lengthAdjust=\"spacing\" textLength=\"671\" x=\"2303.4218\" y=\"562.631\">because many are caught up in the race to shape normative and practical guidance around AI.</text></g><!--MD5=[2d726ea0f1d525a830c38b9ce870f6d6]\n",
       "link I want to create a map to of the moral theoretical commitments in AI Ethics Ed--><g id=\"link_I want to create a map_of the moral theoretical commitments in AI Ethics Ed\"><path d=\"M337,94.23 C337,110.575 337,133.701 337,153.829 \" fill=\"none\" id=\"I want to create a map-of the moral theoretical commitments in AI Ethics Ed\" style=\"stroke:#181818;stroke-width:1.0;\"/></g><!--MD5=[a69400e940d813a388d6f9d4571ebbc2]\n",
       "link of the moral theoretical commitments in AI Ethics Ed to organized by under what conditions [empirical or theoretical] each is appropriate.--><g id=\"link_of the moral theoretical commitments in AI Ethics Ed_organized by under what conditions [empirical or theoretical] each is appropriate.\"><path d=\"M337,241.421 C337,259.563 337,281.052 337,300.906 \" fill=\"none\" id=\"of the moral theoretical commitments in AI Ethics Ed-organized by under what conditions [empirical or theoretical] each is appropriate.\" style=\"stroke:#181818;stroke-width:1.0;\"/></g><!--MD5=[87a92a4e38bec4ae938b73223a1d4c4c]\n",
       "link Outcomes to This satisfies a number of needs.--><g id=\"link_Outcomes_This satisfies a number of needs.\"><path d=\"M675.1543,74.1223 C679.7429,74.7541 686.1889,75.6416 694.2902,76.757 C710.4928,78.9878 733.3168,82.1303 761.1454,85.9618 C816.8026,93.6247 892.4783,104.0438 975.2388,115.4384 C1140.7598,138.2275 1334.62,164.9185 1453.35,181.266 \" fill=\"none\" id=\"Outcomes-This satisfies a number of needs.\" style=\"stroke:#181818;stroke-width:1.0;\"/></g><!--MD5=[aa05d32179eb9e25ebab8c17744359c0]\n",
       "link This satisfies a number of needs. to Teachers entering this space are often non-experts and resource constrained.--><g id=\"link_This satisfies a number of needs._Teachers entering this space are often non-experts and resource constrained.\"><path d=\"M1488.09,221.356 C1409.04,245.156 1282.74,283.185 1180.66,313.921 \" fill=\"none\" id=\"This satisfies a number of needs.-Teachers entering this space are often non-experts and resource constrained.\" style=\"stroke:#181818;stroke-width:1.0;\"/></g><!--MD5=[7a49a59644eba942d9d30e0def6927ea]\n",
       "link This satisfies a number of needs. to Teachers in this space often teach how they were taught.--><g id=\"link_This satisfies a number of needs._Teachers in this space often teach how they were taught.\"><path d=\"M1564,226.865 C1564,251.835 1564,288.651 1564,317.777 \" fill=\"none\" id=\"This satisfies a number of needs.-Teachers in this space often teach how they were taught.\" style=\"stroke:#181818;stroke-width:1.0;\"/></g><!--MD5=[67cfc8aade90f9f8d0ba01932914c63c]\n",
       "link This satisfies a number of needs. to Teachers in this space are putting in a lot of thinking! There's whole conferences!--><g id=\"link_This satisfies a number of needs._Teachers in this space are putting in a lot of thinking! There's whole conferences!\"><path d=\"M1640.98,221.183 C1720.28,244.547 1846.55,281.752 1950.1,312.263 \" fill=\"none\" id=\"This satisfies a number of needs.-Teachers in this space are putting in a lot of thinking! There's whole conferences!\" style=\"stroke:#181818;stroke-width:1.0;\"/></g><!--MD5=[ba73cea0a898a346c00952c779788275]\n",
       "link This satisfies a number of needs. to Teachers are doing this kind of teaching in a wide range of disciplines--><g id=\"link_This satisfies a number of needs._Teachers are doing this kind of teaching in a wide range of disciplines\"><path d=\"M1687.07,208.651 C1858.23,223.707 2177.51,255.197 2447,301 C2482.85,307.092 2521.02,314.838 2557.24,322.786 \" fill=\"none\" id=\"This satisfies a number of needs.-Teachers are doing this kind of teaching in a wide range of disciplines\" style=\"stroke:#181818;stroke-width:1.0;\"/></g><!--MD5=[feb564b01664960eb7a6e0c13ca25dcb]\n",
       "link Teachers are doing this kind of teaching in a wide range of disciplines to because many are caught up in the race to shape normative and practical guidance around AI.--><g id=\"link_Teachers are doing this kind of teaching in a wide range of disciplines_because many are caught up in the race to shape normative and practical guidance around AI.\"><path d=\"M2701.27,418.887 C2691.78,440.253 2680.7,465.177 2670.54,488.03 \" fill=\"none\" id=\"Teachers are doing this kind of teaching in a wide range of disciplines-because many are caught up in the race to shape normative and practical guidance around AI.\" style=\"stroke:#181818;stroke-width:1.0;\"/></g><!--MD5=[56e2a36833b000d700694aad7f98d4b6]\n",
       "@startuml\n",
       "skinparam packageStyle rectangle\n",
       "\n",
       "package Outcomes {\n",
       "    (I want to create a map)\n",
       "    (of the moral theoretical commitments in AI Ethics Ed)\n",
       "    (organized by under what conditions [empirical or theoretical] each is appropriate.)\n",
       "}\n",
       "\n",
       "(I want to create a map) - - (of the moral theoretical commitments in AI Ethics Ed)\n",
       "(of the moral theoretical commitments in AI Ethics Ed) - - (organized by under what conditions [empirical or theoretical] each is appropriate.)\n",
       "\n",
       "package Contributions {\n",
       "    (This satisfies a number of needs.)\n",
       "    (Teachers entering this space are often non-experts and resource constrained.)\n",
       "    (Teachers in this space often teach how they were taught.)\n",
       "    (Teachers in this space are putting in a lot of thinking! There's whole conferences!)\n",
       "    (Teachers are doing this kind of teaching in a wide range of disciplines)\n",
       "    (because many are caught up in the race to shape normative and practical guidance around AI.)\n",
       "}\n",
       "     \n",
       "Outcomes - - (This satisfies a number of needs.)\n",
       "(This satisfies a number of needs.) - - (Teachers entering this space are often non-experts and resource constrained.)\n",
       "(This satisfies a number of needs.) - - (Teachers in this space often teach how they were taught.)\n",
       "(This satisfies a number of needs.) - - (Teachers in this space are putting in a lot of thinking! There's whole conferences!)\n",
       "(This satisfies a number of needs.) - - (Teachers are doing this kind of teaching in a wide range of disciplines)\n",
       "(Teachers are doing this kind of teaching in a wide range of disciplines) - - (because many are caught up in the race to shape normative and practical guidance around AI.)\n",
       "@enduml\n",
       "\n",
       "PlantUML version 1.2022.4beta2(Unknown compile time)\n",
       "(GPL source distribution)\n",
       "Java Runtime: Java(TM) SE Runtime Environment\n",
       "JVM: Java HotSpot(TM) 64-Bit Server VM\n",
       "Default Encoding: UTF-8\n",
       "Language: en\n",
       "Country: US\n",
       "--></g></svg>"
      ],
      "text/plain": [
       "<IPython.core.display.SVG object>"
      ]
     },
     "execution_count": 16,
     "metadata": {},
     "output_type": "execute_result"
    }
   ],
   "source": [
    "%%plantuml -n example\n",
    "\n",
    "@startuml\n",
    "\n",
    "skinparam packageStyle rectangle\n",
    "\n",
    "package Outcomes {\n",
    "    (I want to create a map)\n",
    "    (of the moral theoretical commitments in AI Ethics Ed)\n",
    "    (organized by under what conditions [empirical or theoretical] each is appropriate.)\n",
    "}\n",
    "\n",
    "(I want to create a map) -- (of the moral theoretical commitments in AI Ethics Ed)\n",
    "(of the moral theoretical commitments in AI Ethics Ed) -- (organized by under what conditions [empirical or theoretical] each is appropriate.)\n",
    "\n",
    "package Contributions {\n",
    "    (This satisfies a number of needs.)\n",
    "    (Teachers entering this space are often non-experts and resource constrained.)\n",
    "    (Teachers in this space often teach how they were taught.)\n",
    "    (Teachers in this space are putting in a lot of thinking! There's whole conferences!)\n",
    "    (Teachers are doing this kind of teaching in a wide range of disciplines)\n",
    "    (because many are caught up in the race to shape normative and practical guidance around AI.)\n",
    "}\n",
    "     \n",
    "Outcomes -- (This satisfies a number of needs.)\n",
    "(This satisfies a number of needs.) -- (Teachers entering this space are often non-experts and resource constrained.)\n",
    "(This satisfies a number of needs.) -- (Teachers in this space often teach how they were taught.)\n",
    "(This satisfies a number of needs.) -- (Teachers in this space are putting in a lot of thinking! There's whole conferences!)\n",
    "(This satisfies a number of needs.) -- (Teachers are doing this kind of teaching in a wide range of disciplines)\n",
    "(Teachers are doing this kind of teaching in a wide range of disciplines) -- (because many are caught up in the race to shape normative and practical guidance around AI.)\n",
    "\n",
    "@enduml"
   ]
  },
  {
   "cell_type": "markdown",
   "id": "46c261db-f609-4b00-97ee-35a71d7b1da1",
   "metadata": {
    "slideshow": {
     "slide_type": "slide"
    },
    "tags": []
   },
   "source": [
    "# Research and Researcher\n",
    "\n",
    "## Motivating Question\n",
    "\n",
    "How ought the aims of AI Ethics Education be construed and organized?"
   ]
  },
  {
   "cell_type": "markdown",
   "id": "962bcd1a-95d4-4de4-8be2-ebf105b99538",
   "metadata": {
    "slideshow": {
     "slide_type": "subslide"
    },
    "tags": []
   },
   "source": [
    "## RQs\n",
    "\n",
    "1. What are the ethics-related and AI-related (a) aims, (b) practices, and (c) constraints of those involved in the teaching of AI Ethics?\n",
    "2. What moral theoretical commitments are held in AI Ethics Education?\n",
    "3. Under what conditions do RQ1 and RQ2 change?"
   ]
  },
  {
   "cell_type": "markdown",
   "id": "a7c65015-e129-4632-9be5-8e1bc3345760",
   "metadata": {
    "slideshow": {
     "slide_type": "subslide"
    },
    "tags": []
   },
   "source": [
    "## Why Me?\n",
    "\n",
    "1. AI Ethics is necessarily interdisciplinary.\n",
    "2. This sort of research requires familiarity with a range of disciplines: technical, humanities, education, ...\n",
    "3. I am a swiss army knife."
   ]
  },
  {
   "cell_type": "markdown",
   "id": "b8baf952-3657-4757-8dab-45364832ba09",
   "metadata": {
    "slideshow": {
     "slide_type": "slide"
    },
    "tags": []
   },
   "source": [
    "# Theory, Literature, & Traditions\n",
    "## Drawing On\n",
    "\n",
    "- AI Ethics Calls and Initiatives: What are the problems this kind of teaching is being called upon to serve?\n",
    "- Practical Ethics Education: What is the broader tradition of the course objectives of this kind of teaching?\n",
    "- Moral Aims of Higher Education: What are the bigger picture aims of such objectives, what are the origins / moral bases of those aims, what rights and values are caught up in those objectives, etc.?\n",
    "- AI Ethics Instruction: How do we do this kind of teaching, and how do we know it works?"
   ]
  },
  {
   "cell_type": "markdown",
   "id": "11c07011-c1da-4914-bded-008c2a7bcb6d",
   "metadata": {
    "slideshow": {
     "slide_type": "subslide"
    },
    "tags": []
   },
   "source": [
    "## Coursework\n",
    "\n",
    "- LIS 461, 931, & 999: Data ethics, policy, independent study with Alan\n",
    "- LIS 663: Cyberlaw with Anuj\n",
    "- JOURN 803, EPS 870, & ELPA 765: Ed/social theories and policies in my minor and electives"
   ]
  },
  {
   "cell_type": "markdown",
   "id": "4b3aa0ae-470b-4e13-a5c7-9a4bb133b3d9",
   "metadata": {
    "slideshow": {
     "slide_type": "slide"
    },
    "tags": []
   },
   "source": [
    "# Methods\n",
    "\n",
    "## Pilot Recap\n",
    "\n",
    "- Judgment-based sampling\n",
    "- Computer Science vs. Information\n",
    "- 10 participants, 5 from each department\n",
    "- Semi-structured interviews, 20~30 minutes each\n",
    "- Zoom, audio recorded\n",
    "- Constant Comparative Thematic Analysis\n",
    "- Found common themes\n",
    "- Found variance in aims, which mapped onto teaching strategies\n",
    "    - Later conceptualized this as \"moral theoretical commitments\"\n",
    "    - The dissertation is aimed at understanding this tentative finding deeper"
   ]
  },
  {
   "cell_type": "markdown",
   "id": "f387c5de-bbe0-4810-b702-ed9995e95255",
   "metadata": {
    "slideshow": {
     "slide_type": "subslide"
    },
    "tags": []
   },
   "source": [
    "## Proposal\n",
    "\n",
    "- Extend Pilot Sampling\n",
    "    - Snowball\n",
    "    - More disciplines (those identified by Fiesler)\n",
    "- Interviews\n",
    "- Focus Groups\n",
    "    - Pilot overseen by (at least) YJ Kim\n",
    "- Debrief Interviews\n",
    "- Reflections\n",
    "    - Deliberate inclusion of myself in the data"
   ]
  },
  {
   "cell_type": "markdown",
   "id": "26526edf-ccc0-4517-bc93-b26a6d319ab9",
   "metadata": {
    "slideshow": {
     "slide_type": "subslide"
    },
    "tags": []
   },
   "source": [
    "## Coursework\n",
    "\n",
    "- SOC 361 & 361: Stats\n",
    "- LIS 910, ELPA 825 & 719: Research Methods, General\n",
    "- EPS 711 & 955: Research Methods, Special, QE and Grounded Theory\n",
    "- Research Practicum with David Shaffer\n",
    "- PAship with YJ Kim"
   ]
  },
  {
   "cell_type": "markdown",
   "id": "41773668-0785-461c-a166-1688107bcf24",
   "metadata": {
    "slideshow": {
     "slide_type": "slide"
    },
    "tags": []
   },
   "source": [
    "# Anticipated Issues\n",
    "\n",
    "- Teachers have busy schedules\n",
    "    - Pandemic experience with Zoom helps\n",
    "- Currently lack direct experience running focus groups\n",
    "    - PAship focused on analysis of transcripts of focus groups with teachers around conceptions of algorithm-generated metrics\n",
    "    - Pilot with a convenience sample, which will be chosen to maximize qualities shared with my target population"
   ]
  },
  {
   "cell_type": "markdown",
   "id": "36e206a5-a841-4951-9cbf-af18df7108ff",
   "metadata": {
    "slideshow": {
     "slide_type": "subslide"
    },
    "tags": []
   },
   "source": [
    "- I focus on teachers perceptions, not direct observations\n",
    "    - This is a trade off against costs (travel), risks (COVID), and IRB concerns (FERPA), in favor of casting a wider net across multiple disciplines\n",
    "    - Observations can be done in a later study\n",
    "- Projects this interdisciplinary are rarely done by one researcher\n",
    "    - I select methods that invite analytical thinking from the participants early and often\n",
    "    - I have a number of support networks in different fields I can lean on"
   ]
  },
  {
   "cell_type": "markdown",
   "id": "2e5a0bff-0e89-4dc3-9cdc-523fb08766a9",
   "metadata": {
    "slideshow": {
     "slide_type": "subslide"
    },
    "tags": []
   },
   "source": [
    "- My positionality (among other things) affects the data I will collect\n",
    "    - I include deliberate self-reflection in the study\n",
    "    - I will be explicit about my positionality and status as a member-researcher"
   ]
  },
  {
   "cell_type": "markdown",
   "id": "e527164e-4483-40de-ba5a-209dc2c320e3",
   "metadata": {
    "slideshow": {
     "slide_type": "slide"
    },
    "tags": []
   },
   "source": [
    "# Contribution\n",
    "\n",
    "TODO"
   ]
  },
  {
   "cell_type": "markdown",
   "id": "98253c74-f0e2-47ee-88cc-c5669789b7b9",
   "metadata": {
    "slideshow": {
     "slide_type": "slide"
    },
    "tags": []
   },
   "source": [
    "<p style=\"float: right;\"><img src=\"coco.jpeg\" alt=\"\" style=\"height:400px\"></p>\n",
    "\n",
    "# ty"
   ]
  }
 ],
 "metadata": {
  "kernelspec": {
   "display_name": "Python 3 (ipykernel)",
   "language": "python",
   "name": "python3"
  },
  "language_info": {
   "codemirror_mode": {
    "name": "ipython",
    "version": 3
   },
   "file_extension": ".py",
   "mimetype": "text/x-python",
   "name": "python",
   "nbconvert_exporter": "python",
   "pygments_lexer": "ipython3",
   "version": "3.7.12"
  }
 },
 "nbformat": 4,
 "nbformat_minor": 5
}
