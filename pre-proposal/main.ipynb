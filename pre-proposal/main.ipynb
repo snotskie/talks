{
 "cells": [
  {
   "cell_type": "markdown",
   "id": "f8c957ae-683b-4ef5-9518-ea40bc3b89d5",
   "metadata": {
    "slideshow": {
     "slide_type": "slide"
    },
    "tags": []
   },
   "source": [
    "# Preliminary Proposal\n",
    "## Mariah A. Knowles"
   ]
  },
  {
   "cell_type": "markdown",
   "id": "46c261db-f609-4b00-97ee-35a71d7b1da1",
   "metadata": {
    "slideshow": {
     "slide_type": "slide"
    },
    "tags": []
   },
   "source": [
    "# Intro"
   ]
  },
  {
   "cell_type": "markdown",
   "id": "8e6911dd-1282-4186-8030-83ffef08e214",
   "metadata": {
    "slideshow": {
     "slide_type": "fragment"
    },
    "tags": []
   },
   "source": [
    "## Motivating Questions\n",
    "\n",
    "TODO"
   ]
  },
  {
   "cell_type": "markdown",
   "id": "87190eba-f47e-48e3-b0a9-6c77433d2a8e",
   "metadata": {
    "slideshow": {
     "slide_type": "fragment"
    },
    "tags": []
   },
   "source": [
    "## RQs\n",
    "\n",
    "1. What are the ethics-related and AI-related (a) aims, (b) practices, and (c) constraints of those involved in the teaching of AI Ethics?\n",
    "2. What moral theoretical commitments are held in AI Ethics Education?\n",
    "3. Under what conditions do RQ1 and RQ2 change?"
   ]
  },
  {
   "cell_type": "markdown",
   "id": "142b6a80-3f98-47ae-9961-23f48bfd5d3e",
   "metadata": {
    "slideshow": {
     "slide_type": "fragment"
    },
    "tags": []
   },
   "source": [
    "## Why Me?\n",
    "\n",
    "TODO"
   ]
  },
  {
   "cell_type": "markdown",
   "id": "b8baf952-3657-4757-8dab-45364832ba09",
   "metadata": {
    "slideshow": {
     "slide_type": "slide"
    },
    "tags": []
   },
   "source": [
    "# Literature\n",
    "\n",
    "TODO\n",
    "\n",
    "**Coursework:** LIS 931, LIS 663"
   ]
  },
  {
   "cell_type": "markdown",
   "id": "039753fc-9a78-4856-b917-81a8cff1b056",
   "metadata": {
    "slideshow": {
     "slide_type": "slide"
    },
    "tags": []
   },
   "source": [
    "# Theory\n",
    "\n",
    "TODO\n",
    "\n",
    "**Coursework:** LIS 931, LIS 663, ELPA 765, EPS 870"
   ]
  },
  {
   "cell_type": "markdown",
   "id": "4b3aa0ae-470b-4e13-a5c7-9a4bb133b3d9",
   "metadata": {
    "slideshow": {
     "slide_type": "slide"
    },
    "tags": []
   },
   "source": [
    "# Methods\n",
    "\n",
    "- Judgment-based -> Snowball -> Theoretic Sampling\n",
    "- Interviews\n",
    "- Pilot Focus Group\n",
    "- Focus Groups\n",
    "- Debrief Interviews\n",
    "- Reflections - Deliberate inclusion of myself in the data\n",
    "- Constant Comparative\n",
    "\n",
    "**Coursework:** ELPA 825, EPS 771, EPS 955, Practicum, PAship"
   ]
  },
  {
   "cell_type": "markdown",
   "id": "41773668-0785-461c-a166-1688107bcf24",
   "metadata": {
    "slideshow": {
     "slide_type": "slide"
    },
    "tags": []
   },
   "source": [
    "# Anticipated Issues\n",
    "\n",
    "TODO"
   ]
  },
  {
   "cell_type": "markdown",
   "id": "e527164e-4483-40de-ba5a-209dc2c320e3",
   "metadata": {
    "slideshow": {
     "slide_type": "slide"
    },
    "tags": []
   },
   "source": [
    "# Contribution\n",
    "\n",
    "TODO"
   ]
  },
  {
   "cell_type": "markdown",
   "id": "98253c74-f0e2-47ee-88cc-c5669789b7b9",
   "metadata": {
    "slideshow": {
     "slide_type": "slide"
    },
    "tags": []
   },
   "source": [
    "<p style=\"float: right;\"><img src=\"coco.jpeg\" alt=\"\" style=\"height:400px\"></p>\n",
    "\n",
    "# ty"
   ]
  }
 ],
 "metadata": {
  "kernelspec": {
   "display_name": "Python 3 (ipykernel)",
   "language": "python",
   "name": "python3"
  },
  "language_info": {
   "codemirror_mode": {
    "name": "ipython",
    "version": 3
   },
   "file_extension": ".py",
   "mimetype": "text/x-python",
   "name": "python",
   "nbconvert_exporter": "python",
   "pygments_lexer": "ipython3",
   "version": "3.7.12"
  }
 },
 "nbformat": 4,
 "nbformat_minor": 5
}
