{
 "cells": [
  {
   "cell_type": "markdown",
   "id": "f8c957ae-683b-4ef5-9518-ea40bc3b89d5",
   "metadata": {
    "slideshow": {
     "slide_type": "slide"
    },
    "tags": []
   },
   "source": [
    "# Some Concerns for AI Ethics Education\n",
    "## Mariah A. Knowles\n",
    "#### UW-Madison iSchool\n",
    "#### Wisconsin Center for Ed Research\n",
    "#### Badger Precollege\n",
    "##### 🏳️‍⚧️ she/her/hers\n",
    "##### 🌐 mariah.knowles.codes\n",
    "##### 📨 mariah.knowles@wisc.edu"
   ]
  },
  {
   "cell_type": "markdown",
   "id": "9ac197e9-6cba-4a2a-af28-86f19e4232f5",
   "metadata": {
    "slideshow": {
     "slide_type": "slide"
    },
    "tags": []
   },
   "source": [
    "# Ground Clearing\n",
    "\n",
    "1. Intelligent systems (AI) raises a number of concerns\n",
    "2. We ought to address these concerns on a number of fronts\n",
    "3. One such front is AI Ethics Education in higher ed\n",
    "4. Some observations:\n",
    "    - Courses with AI-related and Ethics-related objectives are taught in a range of departments\n",
    "    - Teachers doing this kind of teaching have a range of aims and share a number of concerns\n",
    "    - And AI Ethics Education is interdisciplinary in nature\n",
    "5. AI Ethics Education sweeps up all departments in the race to shape the interfaces between AI and human flourishing\n",
    "6. Even though AI Ethics Education is being called upon to address these interfaces, it's not clear what the big picture aims ought to be, and it's not clear what lessons from which traditions one ought to draw upon, and when"
   ]
  },
  {
   "cell_type": "markdown",
   "id": "f725ae5f-d908-4af5-947d-2dffd5a3b3bc",
   "metadata": {
    "slideshow": {
     "slide_type": "slide"
    },
    "tags": []
   },
   "source": [
    "# AI Ethics is at root a bundle of related ethical issues\n",
    "\n",
    "- professional identity and codes\n",
    "- public trust\n",
    "- distributive harms\n",
    "- misinformation and censorship\n",
    "- institutions of high public scrutiny, eg, education, policing, health\n",
    "- labor displacement\n",
    "- consumer autonomy, agency, and informed consent\n",
    "- regulation and accountability\n",
    "- AI as \"persons\""
   ]
  },
  {
   "cell_type": "markdown",
   "id": "fcb07da2-423f-436f-8911-f14af4a5b16a",
   "metadata": {
    "slideshow": {
     "slide_type": "slide"
    },
    "tags": []
   },
   "source": [
    "# AI Ethics Education\n",
    "\n",
    "I conducted a pilot Summer 2020:\n",
    "\n",
    "- Interviewed 10 teachers of courses with AI-related and Ethics-related objectives\n",
    "- 5 Computer Science\n",
    "- 5 Information Science\n",
    "- Spoke about their objectives, teaching, concerns, and students"
   ]
  },
  {
   "cell_type": "markdown",
   "id": "5d6a5290-d0d3-4bfe-938e-ba51de90b3b9",
   "metadata": {
    "slideshow": {
     "slide_type": "slide"
    },
    "tags": []
   },
   "source": [
    "# AI Ethics Education faces challenges not faced by nearby courses\n",
    "\n",
    "- many AI Ethics classes are relegated to 1-credit courses\n",
    "- \"techie\" students viewed as less equipped to approach Ethics content\n",
    "- teachers can draw from communities of practice\n",
    "\n",
    "> My preconception is that Computer Science does not have a rich history of ethics embedded into it. You go to Engineering or Bio-Engineering and those disciplines, they have a much more ingrained sense of these kinds of professional ethics and codes and norms, you know, versus someone like me who has multiple Computer Science degrees and I had never even heard of STS until I was well into my faculty life."
   ]
  },
  {
   "cell_type": "markdown",
   "id": "03293921-4a49-49c1-92cb-01436bc4844d",
   "metadata": {
    "slideshow": {
     "slide_type": "slide"
    },
    "tags": []
   },
   "source": [
    "# AI Ethics students are future professionals\n",
    "\n",
    "- some worry their students will be placed in powerful positions and cause great harm \n",
    "- others see it as not individuals, but institutions, that enable those harms\n",
    "\n",
    "> We really have an ideal about the individual entrepreneur creating a technology by himself…My students, I think, are trained by the culture they consume, by their other classes, by the context of their own homework that has them competing against each other to build designs, to approach any technological design…as something that emerges de novo like Athena from Zeus's head…But in the real world, no technology escapes the context of its design, which is always collaborative. And especially for something that is as big and expensive as AI…it is always something that is going to be designed by a large organization and implemented by a large organization. So it is just unfair to the reality of the world as it works to describe technology in general, but AI especially in particular, as anything but a product of specific institutions."
   ]
  },
  {
   "cell_type": "markdown",
   "id": "90576f41-a6bc-4844-b713-057a7c6e2a07",
   "metadata": {
    "slideshow": {
     "slide_type": "slide"
    },
    "tags": []
   },
   "source": [
    "# AI is not hypothetical\n",
    "\n",
    "- wealth of AI examples to draw on\n",
    "- students find popular media representations of AI engaging\n",
    "- teachers find real life case studies fertile for productive Ethics assignments\n",
    "- while popular media can be engaging, it can also be distracting\n",
    "\n",
    "> We spend time doing science fiction based stuff on AI, though I try to steer the conversation too far from like—'cause people get really interested in talking about like sexual consent for robots, which is an interesting intellectual conversation, I suppose, but not actually—‘this isn't the stuff that we should be worrying about right now’ is basically the issue there."
   ]
  },
  {
   "cell_type": "markdown",
   "id": "f8ec4afe-349a-47e9-9c81-c6d3a9fe792d",
   "metadata": {
    "slideshow": {
     "slide_type": "slide"
    },
    "tags": []
   },
   "source": [
    "# AI muddies students' moral reasoning\n",
    "\n",
    "- AI is ubiquitous and technical, which confuses students as to what AI exactly is\n",
    "- AI is speciously hyped, and it takes class time to disentangle realistic uses from exaggerated promises\n",
    "\n",
    "> I think there's a social aspect here where people want to say, ‘well, there's this AI system, and I used this system, so this system has the responsibility for these decisions…I'm going to claim that it's unbiased in some way because I didn't make that decision, the system made that decision.’ So I think there's definitely that sort of mentality or lean when you're using AI. So the thing that I try and get at is, you can't make that claim, because somebody built that system, and that responsibility lies somewhere. It lies with you because you're using a system and need to have some kind of understanding about what the implications of that system are, and that responsibility also lies with the creator of that system, about how they built that system, what data they used, all these things, that you should be aware of the implications of this system's use."
   ]
  },
  {
   "cell_type": "markdown",
   "id": "0a770294-5f95-48c9-9ee7-5dbfe1456836",
   "metadata": {
    "slideshow": {
     "slide_type": "slide"
    },
    "tags": []
   },
   "source": [
    "# Discussions are inherently valuable\n",
    "\n",
    "- most learning objectives were framed as instrumental towards one's teaching objectives\n",
    "- yet, nearly every participant viewed peer-to-peer discussion as non-instrumental, inherently valuable, for teaching AI Ethics:\n",
    "    - discussions support social–emotional learning\n",
    "    - discussions help the class run\n",
    "    - the work of Ethics itself must be discursive\n",
    "\n",
    "> You need…the peer-to-peer so people can understand what their value statements are, and then they can be forced to defend those value statements, and understand how their values or their perspective of the world becomes embedded."
   ]
  },
  {
   "cell_type": "markdown",
   "id": "1c75b201-576d-4809-9b4e-06c12b760894",
   "metadata": {
    "slideshow": {
     "slide_type": "slide"
    },
    "tags": []
   },
   "source": [
    "# Aims of AI Ethics itself varied\n",
    "\n",
    "- 10 participants, 6 views\n",
    "- Professional Ethics\n",
    "- Critical X Students\n",
    "- Analysis of Issues\n",
    "- Values in Design\n",
    "- Validity of Algorithms\n",
    "- Drawing on Past Cases"
   ]
  },
  {
   "cell_type": "markdown",
   "id": "c863fce3-6381-4560-b3ad-afccb9cc6287",
   "metadata": {
    "slideshow": {
     "slide_type": "slide"
    },
    "tags": []
   },
   "source": [
    "# \"What Do We Teach When We Teach Tech Ethics?\", Fiesler et al, 2020\n",
    "\n",
    "> The lack of consistency of content is not surprising considering the lack of standards in this space...This is not a bad thing; instead, the variability suggests that there is a lot that computing ethics educators could learn from each other."
   ]
  },
  {
   "cell_type": "markdown",
   "id": "bf58bd8c-0513-4a51-a3a5-528e23c778a1",
   "metadata": {
    "slideshow": {
     "slide_type": "slide"
    },
    "tags": []
   },
   "source": [
    "# A Return to Ground Clearing\n",
    "\n",
    "AI Ethics Education:\n",
    "\n",
    "- deals with the general concern of helping students morally reason and take right action in future concrete contexts that involve intelligent systems.\n",
    "- is of general concern to all, not just traditional students in departments where this kind of teaching already occurs, because many are swept up in the race to shape the normative requirements and practical advice for how we create, train, deploy, use, consume, regulate, interpret, mitigate the harms of, and be subjects of intelligent systems.\n",
    "- must be interdisciplinary, yet conceptions in its practice reflect (for better or worse) disciplinary understandings of interdisciplinary thinking\n",
    "\n",
    "It's not clear which lessons from which traditions are (for better or worse) just reproductions of siloed ethics attitudes and stances, which are the right ones to heed when teaching AI Ethics generally, and under what conditions these lessons change"
   ]
  },
  {
   "cell_type": "markdown",
   "id": "da62be61-4baf-481c-a817-a66c065aedec",
   "metadata": {
    "slideshow": {
     "slide_type": "slide"
    },
    "tags": []
   },
   "source": [
    "# Project\n",
    "\n",
    "- Interviews\n",
    "- Focus Groups\n",
    "- Personal Reflection\n",
    "- Across Several Disciplines\n",
    "- RQs:\n",
    "    1. What are the ethics-related and AI-related (a) aims, (b) practices, (c) constraints, and (d) ethical stances and attitudes of those involved in the teaching of AI Ethics?\n",
    "    3. Under what conditions do the facets of RQ1 change?\n",
    "    4. How ought the aims of AI Ethics Education be construed and organized?"
   ]
  },
  {
   "cell_type": "markdown",
   "id": "98253c74-f0e2-47ee-88cc-c5669789b7b9",
   "metadata": {
    "slideshow": {
     "slide_type": "slide"
    },
    "tags": []
   },
   "source": [
    "<p style=\"float: right;\"><img src=\"coco.jpeg\" alt=\"\" style=\"height:400px\"></p>\n",
    "\n",
    "# ty\n",
    "##### 🏳️‍⚧️ she/her/hers\n",
    "##### 🌐 mariah.knowles.codes\n",
    "##### 📨 mariah.knowles@wisc.edu"
   ]
  }
 ],
 "metadata": {
  "kernelspec": {
   "display_name": "Python 3 (ipykernel)",
   "language": "python",
   "name": "python3"
  },
  "language_info": {
   "codemirror_mode": {
    "name": "ipython",
    "version": 3
   },
   "file_extension": ".py",
   "mimetype": "text/x-python",
   "name": "python",
   "nbconvert_exporter": "python",
   "pygments_lexer": "ipython3",
   "version": "3.7.12"
  }
 },
 "nbformat": 4,
 "nbformat_minor": 5
}
