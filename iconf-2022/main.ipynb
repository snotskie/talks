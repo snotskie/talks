{
 "cells": [
  {
   "cell_type": "markdown",
   "id": "f8c957ae-683b-4ef5-9518-ea40bc3b89d5",
   "metadata": {
    "slideshow": {
     "slide_type": "slide"
    },
    "tags": []
   },
   "source": [
    "# AI Ethics Education\n",
    "## Mariah A. Knowles\n",
    "### she/her/hers\n",
    "#### UW-Madison iSchool\n",
    "#### Wisconsin Center for Ed Research\n",
    "#### Badger Precollege\n",
    "##### mariah.knowles@wisc.edu\n",
    "##### Feb 28, 2022"
   ]
  },
  {
   "cell_type": "markdown",
   "id": "b623db01-0e03-4ecb-8526-589e551f0037",
   "metadata": {
    "jp-MarkdownHeadingCollapsed": true,
    "slideshow": {
     "slide_type": "skip"
    },
    "tags": []
   },
   "source": [
    "# Education\n",
    "\n",
    "## UW-Madison\n",
    "\n",
    "- (current) PhD, Library and Information Science\n",
    "\n",
    "## Western Kentucky University\n",
    "\n",
    "- (2018) MA, English Rhetoric/Composition\n",
    "- (2016) MS, Computer Science\n",
    "- (2014) BS, Computer Science, minor: Professional Writing"
   ]
  },
  {
   "cell_type": "markdown",
   "id": "152e807d-b3a4-4838-bf19-555e54336aa1",
   "metadata": {
    "slideshow": {
     "slide_type": "slide"
    },
    "tags": []
   },
   "source": [
    "# Teaching"
   ]
  },
  {
   "cell_type": "code",
   "execution_count": 1,
   "id": "8e6f2a2c-4e47-49cf-83a5-0aa7f11b57fe",
   "metadata": {
    "slideshow": {
     "slide_type": "skip"
    },
    "tags": []
   },
   "outputs": [
    {
     "data": {
      "text/plain": [
       "164.8"
      ]
     },
     "execution_count": 1,
     "metadata": {},
     "output_type": "execute_result"
    }
   ],
   "source": [
    "from pandas import read_csv, DataFrame\n",
    "teaching = read_csv(\"../data/teaching.csv\", sep=\"\\t\")\n",
    "teaching[\"Total\"] = teaching[\"Sections\"] * teaching[\"Hours\"]\n",
    "teaching[\"Total\"].sum()"
   ]
  },
  {
   "cell_type": "code",
   "execution_count": 2,
   "id": "7dfb4f3e-15fc-4eaf-8e17-6b0f87e75892",
   "metadata": {
    "slideshow": {
     "slide_type": "skip"
    },
    "tags": []
   },
   "outputs": [],
   "source": [
    "# df = teaching[[\"Format\", \"Total\"]].groupby(\"Format\").sum().sort_values(by=\"Total\", ascending=False)\n",
    "# df.plot(kind=\"bar\")"
   ]
  },
  {
   "cell_type": "code",
   "execution_count": 3,
   "id": "014c9fd9-b33c-4e81-94ac-94acb928b528",
   "metadata": {
    "slideshow": {
     "slide_type": "slide"
    },
    "tags": []
   },
   "outputs": [
    {
     "data": {
      "text/plain": [
       "<AxesSubplot:xlabel='School'>"
      ]
     },
     "execution_count": 3,
     "metadata": {},
     "output_type": "execute_result"
    },
    {
     "data": {
      "image/png": "[encoded data removed]",
      "text/plain": [
       "<Figure size 432x288 with 1 Axes>"
      ]
     },
     "metadata": {
      "needs_background": "light"
     },
     "output_type": "display_data"
    }
   ],
   "source": [
    "df = teaching[[\"School\", \"Total\"]].groupby(\"School\").sum().sort_values(by=\"Total\", ascending=False)\n",
    "df.plot(kind=\"bar\")"
   ]
  },
  {
   "cell_type": "code",
   "execution_count": 4,
   "id": "cbc18082-f21c-4904-a768-dcb245c4f21c",
   "metadata": {
    "slideshow": {
     "slide_type": "slide"
    },
    "tags": []
   },
   "outputs": [
    {
     "data": {
      "text/html": [
       "<div>\n",
       "<style scoped>\n",
       "    .dataframe tbody tr th:only-of-type {\n",
       "        vertical-align: middle;\n",
       "    }\n",
       "\n",
       "    .dataframe tbody tr th {\n",
       "        vertical-align: top;\n",
       "    }\n",
       "\n",
       "    .dataframe thead th {\n",
       "        text-align: right;\n",
       "    }\n",
       "</style>\n",
       "<table border=\"1\" class=\"dataframe\">\n",
       "  <thead>\n",
       "    <tr style=\"text-align: right;\">\n",
       "      <th></th>\n",
       "      <th>Total</th>\n",
       "    </tr>\n",
       "  </thead>\n",
       "  <tbody>\n",
       "    <tr>\n",
       "      <th>Undergraduate</th>\n",
       "      <td>163.0</td>\n",
       "    </tr>\n",
       "    <tr>\n",
       "      <th>Graduate</th>\n",
       "      <td>3.0</td>\n",
       "    </tr>\n",
       "    <tr>\n",
       "      <th>Workforce Training</th>\n",
       "      <td>0.8</td>\n",
       "    </tr>\n",
       "    <tr>\n",
       "      <th>Grades 6-8</th>\n",
       "      <td>0.0</td>\n",
       "    </tr>\n",
       "    <tr>\n",
       "      <th>Grades 9-12</th>\n",
       "      <td>0.0</td>\n",
       "    </tr>\n",
       "    <tr>\n",
       "      <th>Grades 4-6</th>\n",
       "      <td>0.0</td>\n",
       "    </tr>\n",
       "    <tr>\n",
       "      <th>Grades 7-10</th>\n",
       "      <td>0.0</td>\n",
       "    </tr>\n",
       "  </tbody>\n",
       "</table>\n",
       "</div>"
      ],
      "text/plain": [
       "                    Total\n",
       "Undergraduate       163.0\n",
       "Graduate              3.0\n",
       "Workforce Training    0.8\n",
       "Grades 6-8            0.0\n",
       "Grades 9-12           0.0\n",
       "Grades 4-6            0.0\n",
       "Grades 7-10           0.0"
      ]
     },
     "execution_count": 4,
     "metadata": {},
     "output_type": "execute_result"
    }
   ],
   "source": [
    "levels = [\"Undergraduate\", \"Graduate\", \"Workforce Training\", \"Grades 6-8\", \"Grades 9-12\", \"Grades 4-6\", \"Grades 7-10\"]\n",
    "totals = [teaching[teaching[\"Level\"].str.contains(level)][\"Total\"].sum() for level in levels]\n",
    "DataFrame({\"Total\": totals}, index=levels).sort_values(by=\"Total\", ascending=False)"
   ]
  },
  {
   "cell_type": "code",
   "execution_count": 5,
   "id": "e6104a8c-9250-44ef-95a5-1e391f8ac795",
   "metadata": {
    "slideshow": {
     "slide_type": "slide"
    },
    "tags": []
   },
   "outputs": [
    {
     "data": {
      "text/plain": [
       "<AxesSubplot:>"
      ]
     },
     "execution_count": 5,
     "metadata": {},
     "output_type": "execute_result"
    },
    {
     "data": {
      "image/png": "[encoded data removed]",
      "text/plain": [
       "<Figure size 432x288 with 1 Axes>"
      ]
     },
     "metadata": {
      "needs_background": "light"
     },
     "output_type": "display_data"
    }
   ],
   "source": [
    "topics = [\"Ethics\", \"Writing\", \"Programming\", \"Networking\", \"Web\", \"Database\", \"Office\", \"Security\", \"Data Science\", \"Research and Data Analysis\"]\n",
    "totals = [teaching[teaching[\"Topic\"].str.contains(topic)][\"Total\"].sum() for topic in topics]\n",
    "df = DataFrame({\"Total\": totals}, index=topics).sort_values(by=\"Total\", ascending=False)\n",
    "df.plot(kind=\"bar\")"
   ]
  },
  {
   "cell_type": "markdown",
   "id": "6f4017a8-ee56-4300-8743-f432a5da5fc7",
   "metadata": {
    "slideshow": {
     "slide_type": "slide"
    },
    "tags": []
   },
   "source": [
    "# Other Teaching-Related Activities\n",
    "\n",
    "- Volunteer  Instructor,  Microsoft  TEALS,  Madison  East  High School:  Fa19, Sp20\n",
    "- \"Telling Stories of Transitions:  Sharing the Endeavors of Quant and Qual Research.\"  For Modupe Adewuyi’s NURS 4434 Vulnerable Populations, Kennesaw State University: SP22"
   ]
  },
  {
   "cell_type": "markdown",
   "id": "dce29b3d-2440-4c71-ac5c-9c05d7fe02f4",
   "metadata": {
    "slideshow": {
     "slide_type": "slide"
    },
    "tags": []
   },
   "source": [
    "# Research"
   ]
  },
  {
   "cell_type": "markdown",
   "id": "f016cd59-42ec-4687-ba47-d31e5d57ec54",
   "metadata": {
    "slideshow": {
     "slide_type": "slide"
    },
    "tags": []
   },
   "source": [
    "![http://yuml.me/edit/296e5df2](http://yuml.me/296e5df2.svg)"
   ]
  }
 ],
 "metadata": {
  "kernelspec": {
   "display_name": "Python 3 (ipykernel)",
   "language": "python",
   "name": "python3"
  },
  "language_info": {
   "codemirror_mode": {
    "name": "ipython",
    "version": 3
   },
   "file_extension": ".py",
   "mimetype": "text/x-python",
   "name": "python",
   "nbconvert_exporter": "python",
   "pygments_lexer": "ipython3",
   "version": "3.7.12"
  }
 },
 "nbformat": 4,
 "nbformat_minor": 5
}
