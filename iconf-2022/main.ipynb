{
 "cells": [
  {
   "cell_type": "markdown",
   "id": "f8c957ae-683b-4ef5-9518-ea40bc3b89d5",
   "metadata": {
    "slideshow": {
     "slide_type": "slide"
    },
    "tags": []
   },
   "source": [
    "# AI Ethics Education\n",
    "## Mariah A. Knowles\n",
    "### Feb 28, 2022"
   ]
  },
  {
   "cell_type": "markdown",
   "id": "b623db01-0e03-4ecb-8526-589e551f0037",
   "metadata": {
    "slideshow": {
     "slide_type": "slide"
    },
    "tags": []
   },
   "source": [
    "# Education\n",
    "\n",
    "## UW-Madison\n",
    "\n",
    "- (current) PhD, Library and Information Science\n",
    "\n",
    "## Western Kentucky University\n",
    "\n",
    "- (2018) MA, English Rhetoric/Composition\n",
    "- (2016) MS, Computer Science\n",
    "- (2014) BS, Computer Science, minor: Professional Writing"
   ]
  },
  {
   "cell_type": "markdown",
   "id": "152e807d-b3a4-4838-bf19-555e54336aa1",
   "metadata": {
    "slideshow": {
     "slide_type": "slide"
    },
    "tags": []
   },
   "source": [
    "# Teaching"
   ]
  },
  {
   "cell_type": "code",
   "execution_count": 1,
   "id": "8e6f2a2c-4e47-49cf-83a5-0aa7f11b57fe",
   "metadata": {
    "slideshow": {
     "slide_type": "fragment"
    },
    "tags": []
   },
   "outputs": [
    {
     "data": {
      "text/html": [
       "<div>\n",
       "<style scoped>\n",
       "    .dataframe tbody tr th:only-of-type {\n",
       "        vertical-align: middle;\n",
       "    }\n",
       "\n",
       "    .dataframe tbody tr th {\n",
       "        vertical-align: top;\n",
       "    }\n",
       "\n",
       "    .dataframe thead th {\n",
       "        text-align: right;\n",
       "    }\n",
       "</style>\n",
       "<table border=\"1\" class=\"dataframe\">\n",
       "  <thead>\n",
       "    <tr style=\"text-align: right;\">\n",
       "      <th></th>\n",
       "      <th>Total</th>\n",
       "    </tr>\n",
       "    <tr>\n",
       "      <th>Format</th>\n",
       "      <th></th>\n",
       "    </tr>\n",
       "  </thead>\n",
       "  <tbody>\n",
       "    <tr>\n",
       "      <th>WWW</th>\n",
       "      <td>71.0</td>\n",
       "    </tr>\n",
       "    <tr>\n",
       "      <th>F2F</th>\n",
       "      <td>57.8</td>\n",
       "    </tr>\n",
       "    <tr>\n",
       "      <th>Hybrid</th>\n",
       "      <td>36.0</td>\n",
       "    </tr>\n",
       "  </tbody>\n",
       "</table>\n",
       "</div>"
      ],
      "text/plain": [
       "        Total\n",
       "Format       \n",
       "WWW      71.0\n",
       "F2F      57.8\n",
       "Hybrid   36.0"
      ]
     },
     "execution_count": 1,
     "metadata": {},
     "output_type": "execute_result"
    }
   ],
   "source": [
    "from pandas import read_csv, DataFrame\n",
    "from IPython.display import HTML\n",
    "from os import system\n",
    "teaching = read_csv(\"data/teaching.csv\", sep=\"\\t\")\n",
    "teaching[\"Total\"] = teaching[\"Sections\"] * teaching[\"Hours\"]\n",
    "teaching[[\"Format\", \"Total\"]].groupby(\"Format\").sum().sort_values(by=\"Total\", ascending=False)"
   ]
  },
  {
   "cell_type": "code",
   "execution_count": 2,
   "id": "014c9fd9-b33c-4e81-94ac-94acb928b528",
   "metadata": {
    "slideshow": {
     "slide_type": "slide"
    },
    "tags": []
   },
   "outputs": [
    {
     "data": {
      "text/html": [
       "<div>\n",
       "<style scoped>\n",
       "    .dataframe tbody tr th:only-of-type {\n",
       "        vertical-align: middle;\n",
       "    }\n",
       "\n",
       "    .dataframe tbody tr th {\n",
       "        vertical-align: top;\n",
       "    }\n",
       "\n",
       "    .dataframe thead th {\n",
       "        text-align: right;\n",
       "    }\n",
       "</style>\n",
       "<table border=\"1\" class=\"dataframe\">\n",
       "  <thead>\n",
       "    <tr style=\"text-align: right;\">\n",
       "      <th></th>\n",
       "      <th>Total</th>\n",
       "    </tr>\n",
       "    <tr>\n",
       "      <th>School</th>\n",
       "      <th></th>\n",
       "    </tr>\n",
       "  </thead>\n",
       "  <tbody>\n",
       "    <tr>\n",
       "      <th>KCTCS</th>\n",
       "      <td>117.8</td>\n",
       "    </tr>\n",
       "    <tr>\n",
       "      <th>UW-Madison</th>\n",
       "      <td>47.0</td>\n",
       "    </tr>\n",
       "    <tr>\n",
       "      <th>WKU</th>\n",
       "      <td>0.0</td>\n",
       "    </tr>\n",
       "  </tbody>\n",
       "</table>\n",
       "</div>"
      ],
      "text/plain": [
       "            Total\n",
       "School           \n",
       "KCTCS       117.8\n",
       "UW-Madison   47.0\n",
       "WKU           0.0"
      ]
     },
     "execution_count": 2,
     "metadata": {},
     "output_type": "execute_result"
    }
   ],
   "source": [
    "teaching[[\"School\", \"Total\"]].groupby(\"School\").sum().sort_values(by=\"Total\", ascending=False)"
   ]
  },
  {
   "cell_type": "code",
   "execution_count": 3,
   "id": "e6104a8c-9250-44ef-95a5-1e391f8ac795",
   "metadata": {
    "slideshow": {
     "slide_type": "slide"
    },
    "tags": []
   },
   "outputs": [
    {
     "data": {
      "text/html": [
       "<div>\n",
       "<style scoped>\n",
       "    .dataframe tbody tr th:only-of-type {\n",
       "        vertical-align: middle;\n",
       "    }\n",
       "\n",
       "    .dataframe tbody tr th {\n",
       "        vertical-align: top;\n",
       "    }\n",
       "\n",
       "    .dataframe thead th {\n",
       "        text-align: right;\n",
       "    }\n",
       "</style>\n",
       "<table border=\"1\" class=\"dataframe\">\n",
       "  <thead>\n",
       "    <tr style=\"text-align: right;\">\n",
       "      <th></th>\n",
       "      <th>Total</th>\n",
       "    </tr>\n",
       "  </thead>\n",
       "  <tbody>\n",
       "    <tr>\n",
       "      <th>Web</th>\n",
       "      <td>60.0</td>\n",
       "    </tr>\n",
       "    <tr>\n",
       "      <th>Writing</th>\n",
       "      <td>55.0</td>\n",
       "    </tr>\n",
       "    <tr>\n",
       "      <th>Programming</th>\n",
       "      <td>54.8</td>\n",
       "    </tr>\n",
       "    <tr>\n",
       "      <th>Ethics</th>\n",
       "      <td>46.0</td>\n",
       "    </tr>\n",
       "    <tr>\n",
       "      <th>Database</th>\n",
       "      <td>39.0</td>\n",
       "    </tr>\n",
       "    <tr>\n",
       "      <th>Networking</th>\n",
       "      <td>36.0</td>\n",
       "    </tr>\n",
       "    <tr>\n",
       "      <th>Security</th>\n",
       "      <td>36.0</td>\n",
       "    </tr>\n",
       "    <tr>\n",
       "      <th>Office</th>\n",
       "      <td>18.0</td>\n",
       "    </tr>\n",
       "    <tr>\n",
       "      <th>Data Science</th>\n",
       "      <td>12.0</td>\n",
       "    </tr>\n",
       "    <tr>\n",
       "      <th>Research and Data Analysis</th>\n",
       "      <td>0.0</td>\n",
       "    </tr>\n",
       "  </tbody>\n",
       "</table>\n",
       "</div>"
      ],
      "text/plain": [
       "                            Total\n",
       "Web                          60.0\n",
       "Writing                      55.0\n",
       "Programming                  54.8\n",
       "Ethics                       46.0\n",
       "Database                     39.0\n",
       "Networking                   36.0\n",
       "Security                     36.0\n",
       "Office                       18.0\n",
       "Data Science                 12.0\n",
       "Research and Data Analysis    0.0"
      ]
     },
     "execution_count": 3,
     "metadata": {},
     "output_type": "execute_result"
    }
   ],
   "source": [
    "topics = [\"Ethics\", \"Writing\", \"Programming\", \"Networking\", \"Web\", \"Database\", \"Office\", \"Security\", \"Data Science\", \"Research and Data Analysis\"]\n",
    "totals = [teaching[teaching[\"Topic\"].str.contains(topic)][\"Total\"].sum() for topic in topics]\n",
    "DataFrame({\"Total\": totals}, index=topics).sort_values(by=\"Total\", ascending=False)"
   ]
  },
  {
   "cell_type": "code",
   "execution_count": 4,
   "id": "cbc18082-f21c-4904-a768-dcb245c4f21c",
   "metadata": {
    "slideshow": {
     "slide_type": "slide"
    },
    "tags": []
   },
   "outputs": [
    {
     "data": {
      "text/html": [
       "<div>\n",
       "<style scoped>\n",
       "    .dataframe tbody tr th:only-of-type {\n",
       "        vertical-align: middle;\n",
       "    }\n",
       "\n",
       "    .dataframe tbody tr th {\n",
       "        vertical-align: top;\n",
       "    }\n",
       "\n",
       "    .dataframe thead th {\n",
       "        text-align: right;\n",
       "    }\n",
       "</style>\n",
       "<table border=\"1\" class=\"dataframe\">\n",
       "  <thead>\n",
       "    <tr style=\"text-align: right;\">\n",
       "      <th></th>\n",
       "      <th>Total</th>\n",
       "    </tr>\n",
       "  </thead>\n",
       "  <tbody>\n",
       "    <tr>\n",
       "      <th>Undergraduate</th>\n",
       "      <td>163.0</td>\n",
       "    </tr>\n",
       "    <tr>\n",
       "      <th>Graduate</th>\n",
       "      <td>3.0</td>\n",
       "    </tr>\n",
       "    <tr>\n",
       "      <th>Workforce Training</th>\n",
       "      <td>0.8</td>\n",
       "    </tr>\n",
       "    <tr>\n",
       "      <th>Grades 6-8</th>\n",
       "      <td>0.0</td>\n",
       "    </tr>\n",
       "    <tr>\n",
       "      <th>Grades 9-12</th>\n",
       "      <td>0.0</td>\n",
       "    </tr>\n",
       "    <tr>\n",
       "      <th>Grades 4-6</th>\n",
       "      <td>0.0</td>\n",
       "    </tr>\n",
       "    <tr>\n",
       "      <th>Grades 7-10</th>\n",
       "      <td>0.0</td>\n",
       "    </tr>\n",
       "  </tbody>\n",
       "</table>\n",
       "</div>"
      ],
      "text/plain": [
       "                    Total\n",
       "Undergraduate       163.0\n",
       "Graduate              3.0\n",
       "Workforce Training    0.8\n",
       "Grades 6-8            0.0\n",
       "Grades 9-12           0.0\n",
       "Grades 4-6            0.0\n",
       "Grades 7-10           0.0"
      ]
     },
     "execution_count": 4,
     "metadata": {},
     "output_type": "execute_result"
    }
   ],
   "source": [
    "levels = [\"Undergraduate\", \"Graduate\", \"Workforce Training\", \"Grades 6-8\", \"Grades 9-12\", \"Grades 4-6\", \"Grades 7-10\"]\n",
    "totals = [teaching[teaching[\"Level\"].str.contains(level)][\"Total\"].sum() for level in levels]\n",
    "DataFrame({\"Total\": totals}, index=levels).sort_values(by=\"Total\", ascending=False)"
   ]
  },
  {
   "cell_type": "markdown",
   "id": "6f4017a8-ee56-4300-8743-f432a5da5fc7",
   "metadata": {
    "slideshow": {
     "slide_type": "slide"
    },
    "tags": []
   },
   "source": [
    "# Other Teaching-Related Activities\n",
    "\n",
    "- Volunteer  Instructor,  Microsoft  TEALS,  Madison  East  High School:  Fa19, Sp20\n",
    "- \"Telling Stories of Transitions:  Sharing the Endeavors of Quant and Qual Research.\"  For Modupe Adewuyi’s NURS 4434 Vulnerable Populations, Kennesaw State University: SP22"
   ]
  },
  {
   "cell_type": "markdown",
   "id": "dce29b3d-2440-4c71-ac5c-9c05d7fe02f4",
   "metadata": {
    "slideshow": {
     "slide_type": "slide"
    },
    "tags": []
   },
   "source": [
    "# Research"
   ]
  },
  {
   "cell_type": "code",
   "execution_count": 5,
   "id": "5a5b8389-a2e2-482d-9052-854ffe70e7b7",
   "metadata": {
    "slideshow": {
     "slide_type": "fragment"
    },
    "tags": []
   },
   "outputs": [
    {
     "data": {
      "text/html": [
       "<!DOCTYPE html PUBLIC \"-//W3C//DTD HTML 4.01//EN\">\n",
       "<html>\n",
       "<head><meta name=\"generator\" content=\"Pybtex\">\n",
       "<meta http-equiv=\"Content-Type\" content=\"text/html; charset=UTF-8\">\n",
       "<title>Bibliography</title>\n",
       "</head>\n",
       "<body>\n",
       "<dl>\n",
       "<dt>1</dt>\n",
       "<dd>Mariah&nbsp;A Knowles and David&nbsp;Williamson Shaffer.\n",
       "Hierarchical epistemic network analysis.\n",
       "In <em>Second International Conference on Quantitative Ethnography: Conference Proceedings Supplement</em>, 31. 2021.</dd>\n",
       "<dt>2</dt>\n",
       "<dd>Mariah&nbsp;A. Knowles and Lauren Scanlon.\n",
       "Networks of one and justice.\n",
       "Network Science: Networked Justice.</dd>\n",
       "<dt>3</dt>\n",
       "<dd>Mariah&nbsp;A Knowles.\n",
       "Telling stories of transitions: a demonstration of nonlinear epistemic network analysis.\n",
       "In <em>International Conference on Quantitative Ethnography</em>, 114–128. Springer, 2021.</dd>\n",
       "<dt>4</dt>\n",
       "<dd>Mariah&nbsp;A Knowles.\n",
       "Five motivating concerns for ai ethics instruction.\n",
       "<em>Proceedings of the Association for Information Science and Technology</em>, 58(1):472–476, 2021.</dd>\n",
       "</dl></body></html>\n"
      ],
      "text/plain": [
       "<IPython.core.display.HTML object>"
      ]
     },
     "execution_count": 5,
     "metadata": {},
     "output_type": "execute_result"
    }
   ],
   "source": [
    "system(\"pybtex-format iconf-2022/refs.bib iconf-2022/refs.html\")\n",
    "HTML(filename=\"iconf-2022/refs.html\")"
   ]
  },
  {
   "cell_type": "code",
   "execution_count": null,
   "id": "1fe3212d-7bcf-4b91-8756-e298f6b7383e",
   "metadata": {},
   "outputs": [],
   "source": []
  }
 ],
 "metadata": {
  "kernelspec": {
   "display_name": "Python 3 (ipykernel)",
   "language": "python",
   "name": "python3"
  },
  "language_info": {
   "codemirror_mode": {
    "name": "ipython",
    "version": 3
   },
   "file_extension": ".py",
   "mimetype": "text/x-python",
   "name": "python",
   "nbconvert_exporter": "python",
   "pygments_lexer": "ipython3",
   "version": "3.7.12"
  }
 },
 "nbformat": 4,
 "nbformat_minor": 5
}
