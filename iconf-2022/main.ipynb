{
 "cells": [
  {
   "cell_type": "markdown",
   "id": "f8c957ae-683b-4ef5-9518-ea40bc3b89d5",
   "metadata": {
    "slideshow": {
     "slide_type": "slide"
    },
    "tags": []
   },
   "source": [
    "# AI Ethics Education\n",
    "## Mariah A. Knowles\n",
    "### she/her/hers\n",
    "#### UW-Madison iSchool\n",
    "#### Wisconsin Center for Ed Research\n",
    "#### Badger Precollege\n",
    "##### mariahknowles.com\n",
    "##### mariah.knowles@wisc.edu\n",
    "##### Feb 28, 2022"
   ]
  },
  {
   "cell_type": "markdown",
   "id": "7a9e0a42-e424-4a9d-a1b3-acd3c0f08c2b",
   "metadata": {
    "jp-MarkdownHeadingCollapsed": true,
    "slideshow": {
     "slide_type": "slide"
    },
    "tags": []
   },
   "source": [
    "# Problem Statement\n",
    "\n",
    "1. AI Ethics Education deals with the general concern of helping students morally reason about intelligent systems\n",
    "2. Supports for helping this educational aim are emerging\n",
    "3. These supports still reflect long-standing scholarly silos instead of a more general concern\n",
    "4. It's not clear which lessons from which silos advance the ball on helping students morally reason about intelligent systems and which are (for better or worse) just reproductions of siloed meta-ethical assumptions"
   ]
  },
  {
   "cell_type": "markdown",
   "id": "503da47f-83ae-467c-9107-b7e61c1cfee3",
   "metadata": {
    "jp-MarkdownHeadingCollapsed": true,
    "slideshow": {
     "slide_type": "slide"
    },
    "tags": []
   },
   "source": [
    "# Overview\n",
    "\n",
    "1. Research Background\n",
    "2. Teaching Background\n",
    "3. Pilot Study\n",
    "4. Next Steps"
   ]
  },
  {
   "cell_type": "markdown",
   "id": "eb17fb9a-b8c5-4242-88fd-f4774ee82c9c",
   "metadata": {
    "slideshow": {
     "slide_type": "slide"
    },
    "tags": []
   },
   "source": [
    "# Research"
   ]
  },
  {
   "cell_type": "markdown",
   "id": "0c78b715-f015-4246-a09c-b07ada938ec6",
   "metadata": {
    "slideshow": {
     "slide_type": "fragment"
    },
    "tags": []
   },
   "source": [
    "- BS, Computer Science, minor: Professional Writing\n",
    "- MS, Computer Science, thesis: Probability and Graph Theory\n",
    "- MA, English Rhetoric/Composition, thesis: Rhetorical Analysis, Satire, Diversity in Tech\n",
    "- Practicum, Epistemic Analytics Lab, project: Mixed Methods, Quantitative Ethnography, Modeling Discourse, Visualization\n",
    "- \"Telling Stories of Transitions.\" ICQE 2021\n",
    "- PA, Wisconsin Center for Ed Research, project: Learning Analytics, Data Dashboards, Focus Groups, Interviews, Automated Coding"
   ]
  },
  {
   "cell_type": "markdown",
   "id": "152e807d-b3a4-4838-bf19-555e54336aa1",
   "metadata": {
    "slideshow": {
     "slide_type": "slide"
    },
    "tags": []
   },
   "source": [
    "# Teaching"
   ]
  },
  {
   "cell_type": "code",
   "execution_count": 1,
   "id": "8e6f2a2c-4e47-49cf-83a5-0aa7f11b57fe",
   "metadata": {
    "slideshow": {
     "slide_type": "fragment"
    },
    "tags": []
   },
   "outputs": [
    {
     "data": {
      "text/plain": [
       "193.8"
      ]
     },
     "execution_count": 1,
     "metadata": {},
     "output_type": "execute_result"
    }
   ],
   "source": [
    "from pandas import read_csv, DataFrame\n",
    "teaching = read_csv(\"../data/teaching.csv\", sep=\"\\t\")\n",
    "teaching[\"Total\"] = teaching[\"Sections\"] * teaching[\"Hours\"]\n",
    "teaching[\"Total\"].sum()"
   ]
  },
  {
   "cell_type": "code",
   "execution_count": 2,
   "id": "7dfb4f3e-15fc-4eaf-8e17-6b0f87e75892",
   "metadata": {
    "slideshow": {
     "slide_type": "slide"
    },
    "tags": []
   },
   "outputs": [
    {
     "data": {
      "text/plain": [
       "<AxesSubplot:xlabel='Format'>"
      ]
     },
     "execution_count": 2,
     "metadata": {},
     "output_type": "execute_result"
    },
    {
     "data": {
      "image/png": "[encoded data removed]",
      "text/plain": [
       "<Figure size 432x288 with 1 Axes>"
      ]
     },
     "metadata": {
      "needs_background": "light"
     },
     "output_type": "display_data"
    }
   ],
   "source": [
    "df = teaching[[\"Format\", \"Total\"]].groupby(\"Format\").sum().sort_values(by=\"Total\", ascending=False)\n",
    "df.plot(kind=\"bar\")"
   ]
  },
  {
   "cell_type": "code",
   "execution_count": 3,
   "id": "014c9fd9-b33c-4e81-94ac-94acb928b528",
   "metadata": {
    "slideshow": {
     "slide_type": "slide"
    },
    "tags": []
   },
   "outputs": [
    {
     "data": {
      "text/plain": [
       "<AxesSubplot:xlabel='School'>"
      ]
     },
     "execution_count": 3,
     "metadata": {},
     "output_type": "execute_result"
    },
    {
     "data": {
      "image/png": "[encoded data removed]",
      "text/plain": [
       "<Figure size 432x288 with 1 Axes>"
      ]
     },
     "metadata": {
      "needs_background": "light"
     },
     "output_type": "display_data"
    }
   ],
   "source": [
    "df = teaching[[\"School\", \"Total\"]].groupby(\"School\").sum().sort_values(by=\"Total\", ascending=False)\n",
    "df.plot(kind=\"bar\")"
   ]
  },
  {
   "cell_type": "code",
   "execution_count": 4,
   "id": "cbc18082-f21c-4904-a768-dcb245c4f21c",
   "metadata": {
    "slideshow": {
     "slide_type": "slide"
    },
    "tags": []
   },
   "outputs": [
    {
     "data": {
      "text/html": [
       "<div>\n",
       "<style scoped>\n",
       "    .dataframe tbody tr th:only-of-type {\n",
       "        vertical-align: middle;\n",
       "    }\n",
       "\n",
       "    .dataframe tbody tr th {\n",
       "        vertical-align: top;\n",
       "    }\n",
       "\n",
       "    .dataframe thead th {\n",
       "        text-align: right;\n",
       "    }\n",
       "</style>\n",
       "<table border=\"1\" class=\"dataframe\">\n",
       "  <thead>\n",
       "    <tr style=\"text-align: right;\">\n",
       "      <th></th>\n",
       "      <th>Total</th>\n",
       "    </tr>\n",
       "  </thead>\n",
       "  <tbody>\n",
       "    <tr>\n",
       "      <th>Undergraduate</th>\n",
       "      <td>192.0</td>\n",
       "    </tr>\n",
       "    <tr>\n",
       "      <th>Graduate</th>\n",
       "      <td>3.0</td>\n",
       "    </tr>\n",
       "    <tr>\n",
       "      <th>Workforce Training</th>\n",
       "      <td>0.8</td>\n",
       "    </tr>\n",
       "    <tr>\n",
       "      <th>Grades 6-8</th>\n",
       "      <td>0.0</td>\n",
       "    </tr>\n",
       "    <tr>\n",
       "      <th>Grades 9-12</th>\n",
       "      <td>0.0</td>\n",
       "    </tr>\n",
       "    <tr>\n",
       "      <th>Grades 4-6</th>\n",
       "      <td>0.0</td>\n",
       "    </tr>\n",
       "    <tr>\n",
       "      <th>Grades 7-10</th>\n",
       "      <td>0.0</td>\n",
       "    </tr>\n",
       "  </tbody>\n",
       "</table>\n",
       "</div>"
      ],
      "text/plain": [
       "                    Total\n",
       "Undergraduate       192.0\n",
       "Graduate              3.0\n",
       "Workforce Training    0.8\n",
       "Grades 6-8            0.0\n",
       "Grades 9-12           0.0\n",
       "Grades 4-6            0.0\n",
       "Grades 7-10           0.0"
      ]
     },
     "execution_count": 4,
     "metadata": {},
     "output_type": "execute_result"
    }
   ],
   "source": [
    "levels = [\"Undergraduate\", \"Graduate\", \"Workforce Training\", \"Grades 6-8\", \"Grades 9-12\", \"Grades 4-6\", \"Grades 7-10\"]\n",
    "totals = [teaching[teaching[\"Level\"].str.contains(level)][\"Total\"].sum() for level in levels]\n",
    "DataFrame({\"Total\": totals}, index=levels).sort_values(by=\"Total\", ascending=False)"
   ]
  },
  {
   "cell_type": "code",
   "execution_count": 5,
   "id": "e6104a8c-9250-44ef-95a5-1e391f8ac795",
   "metadata": {
    "slideshow": {
     "slide_type": "slide"
    },
    "tags": []
   },
   "outputs": [
    {
     "data": {
      "text/plain": [
       "<AxesSubplot:>"
      ]
     },
     "execution_count": 5,
     "metadata": {},
     "output_type": "execute_result"
    },
    {
     "data": {
      "image/png": "[encoded data removed]",
      "text/plain": [
       "<Figure size 432x288 with 1 Axes>"
      ]
     },
     "metadata": {
      "needs_background": "light"
     },
     "output_type": "display_data"
    }
   ],
   "source": [
    "topics = [\"Ethics\", \"Writing\", \"Programming\", \"Networking\", \"Web\", \"Database\", \"Office\", \"Security\", \"Data Science\", \"Research and Data Analysis\"]\n",
    "totals = [teaching[teaching[\"Topic\"].str.contains(topic)][\"Total\"].sum() for topic in topics]\n",
    "df = DataFrame({\"Total\": totals}, index=topics).sort_values(by=\"Total\", ascending=False)\n",
    "df.plot(kind=\"bar\")"
   ]
  },
  {
   "cell_type": "markdown",
   "id": "6f4017a8-ee56-4300-8743-f432a5da5fc7",
   "metadata": {
    "slideshow": {
     "slide_type": "slide"
    },
    "tags": []
   },
   "source": [
    "# Other Teaching-Related Activities\n",
    "\n",
    "- Volunteer  Instructor,  Microsoft  TEALS,  Madison  East  High School:  Fa19, Sp20\n",
    "- \"Telling Stories of Transitions:  Sharing the Endeavors of Quant and Qual Research.\"  For Modupe Adewuyi’s NURS 4434 Vulnerable Populations, Kennesaw State University: SP22"
   ]
  },
  {
   "cell_type": "markdown",
   "id": "de960a2a-0b07-42c3-8b11-dfc03a5c2499",
   "metadata": {
    "slideshow": {
     "slide_type": "slide"
    },
    "tags": []
   },
   "source": [
    "# \"I'm a researcher and PhD student at UW-Madison, and I teach kids and adults how to code.\""
   ]
  },
  {
   "cell_type": "markdown",
   "id": "154d05ab-272c-4e99-9d74-015b2fff2978",
   "metadata": {
    "slideshow": {
     "slide_type": "fragment"
    },
    "tags": []
   },
   "source": [
    "My students:\n",
    "\n",
    "- Write weekly reflections\n",
    "- Project-based learning\n",
    "- \"No one (learns to) code alone\"\n",
    "- Won't be assholes"
   ]
  },
  {
   "cell_type": "markdown",
   "id": "5824109c-59a9-444a-beb3-4c9906ee4920",
   "metadata": {
    "slideshow": {
     "slide_type": "slide"
    },
    "tags": []
   },
   "source": [
    "![](https://i.imgur.com/fu78SJ6.png)"
   ]
  },
  {
   "cell_type": "markdown",
   "id": "89a4f362-23ee-43d0-b2d0-6c3eba3c823f",
   "metadata": {
    "slideshow": {
     "slide_type": "slide"
    },
    "tags": []
   },
   "source": [
    "# How ought we teach AI Ethics?"
   ]
  },
  {
   "cell_type": "markdown",
   "id": "dce29b3d-2440-4c71-ac5c-9c05d7fe02f4",
   "metadata": {
    "slideshow": {
     "slide_type": "fragment"
    },
    "tags": []
   },
   "source": [
    "## Pilot Study"
   ]
  },
  {
   "cell_type": "markdown",
   "id": "8f1f579f-24b8-45f2-8204-d369a8dc36d1",
   "metadata": {
    "slideshow": {
     "slide_type": "fragment"
    },
    "tags": []
   },
   "source": [
    "- Interviewed 5 CS teachers and 5 iSchool teachers\n",
    "- Aims and Practices of their AI Ethics related teaching\n",
    "- \"Five Motivating Concerns for AI Ethics Instruction.\" ASIST 2021."
   ]
  },
  {
   "cell_type": "markdown",
   "id": "9b3ca923-a18d-4ce8-b35a-3a17baa2aad9",
   "metadata": {
    "slideshow": {
     "slide_type": "slide"
    },
    "tags": []
   },
   "source": [
    "1. AI Ethics Ed faces particular difficulties not faced by nearby classes\n",
    "2. AI Ethics students are future professionals\n",
    "3. AI is not hypothetical\n",
    "4. AI seems to muddy student's moral reasoning\n",
    "5. Discussions are inherently valuable\n",
    "6. Normative requirements exist whether AI professionals want to abide them or not\n",
    "7. Wanting to abide them is not enough, one must also know how\n",
    "8. AI Ethics is of general concern to all, not just traditional CS students: Many are swept up in the race to shape how we create, train, deploy, use, consume, regulate, interpret, and be objects of intelligent systems\n",
    "9. Precise aims of AI Ethics varied - 6 views among 10 participants - and reflected teachers own backgrounds"
   ]
  },
  {
   "cell_type": "markdown",
   "id": "4a8f2457-2677-42ab-814f-1a691cd08cff",
   "metadata": {
    "slideshow": {
     "slide_type": "slide"
    },
    "tags": []
   },
   "source": [
    "# Problem Statement\n",
    "\n",
    "1. AI Ethics Education deals with the general concern of helping students morally reason about intelligent systems\n",
    "2. Supports for helping this educational aim are emerging\n",
    "3. These supports still reflect long-standing scholarly silos instead of a more general concern\n",
    "4. It's not clear which lessons from which silos advance the ball on helping students morally reason about intelligent systems and which are (for better or worse) just reproductions of siloed meta-ethical assumptions"
   ]
  },
  {
   "cell_type": "markdown",
   "id": "362dec13-bf2b-4ef8-90a7-a2a613e26bc0",
   "metadata": {
    "slideshow": {
     "slide_type": "slide"
    },
    "tags": []
   },
   "source": [
    "# Research Goals\n",
    "\n",
    "Clarify:\n",
    "\n",
    "- Aims of AI Ethics Education, as a general concern\n",
    "- What this kind of teaching ought to do\n",
    "- ...is permitted to do\n",
    "- ...is prohibited from doing\n",
    "- The conditions under which those concerns change\n",
    "- Practical advice for fulfilling these aims\n",
    "- The spaces of reason that organize these facets\n",
    "\n",
    "Provide these answers in a way that's:\n",
    "\n",
    "- Context-sensitive to real teachers doing this kind of teaching today\n",
    "- Deliberate about my member-status in the same community that's under study"
   ]
  },
  {
   "cell_type": "markdown",
   "id": "26ddc7bb-0f48-459f-9801-560db358c210",
   "metadata": {
    "slideshow": {
     "slide_type": "slide"
    },
    "tags": []
   },
   "source": [
    "# Next Steps"
   ]
  },
  {
   "cell_type": "markdown",
   "id": "da62be61-4baf-481c-a817-a66c065aedec",
   "metadata": {
    "slideshow": {
     "slide_type": "fragment"
    },
    "tags": []
   },
   "source": [
    "1. Widen Sampling Frame\n",
    "2. Interviews and Classroom Observations over 2 years\n",
    "3. Focus-Groups to solicit feedback periodically, include broader perspectives, and build community"
   ]
  },
  {
   "cell_type": "markdown",
   "id": "98253c74-f0e2-47ee-88cc-c5669789b7b9",
   "metadata": {
    "slideshow": {
     "slide_type": "slide"
    },
    "tags": []
   },
   "source": [
    "<p style=\"float: right;\"><img src=\"coco.jpeg\" alt=\"\" style=\"height:400px\"></p>\n",
    "\n",
    "# ty\n",
    "##### mariahknowles.com\n",
    "##### mariah.knowles@wisc.edu"
   ]
  }
 ],
 "metadata": {
  "kernelspec": {
   "display_name": "Python 3 (ipykernel)",
   "language": "python",
   "name": "python3"
  },
  "language_info": {
   "codemirror_mode": {
    "name": "ipython",
    "version": 3
   },
   "file_extension": ".py",
   "mimetype": "text/x-python",
   "name": "python",
   "nbconvert_exporter": "python",
   "pygments_lexer": "ipython3",
   "version": "3.7.12"
  }
 },
 "nbformat": 4,
 "nbformat_minor": 5
}
